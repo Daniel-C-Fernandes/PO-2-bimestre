{
 "cells": [
  {
   "cell_type": "markdown",
   "metadata": {},
   "source": [
    "# Modelagem de Problemas - Pesquisa Operacional\n",
    "\n",
    "## 1. Problema - Mix de Produção / Mistura\n",
    "\n",
    "\n",
    "<div style=\"justify\">\n",
    "<u>Ex.1: Produção de lingotes metal:</u>\n",
    "\n",
    "\n",
    "Uma empresa fabrica dois produtos, lingotes de aço e lingotes de ferro. \n",
    "\n",
    "Na fabricação dos lingotes de aço a empresa gasta nove horas-homem e três horas-máquina, onde a tecnologia utilizada é intensiva em mão-de-obra. \n",
    "\n",
    "Na fabricação dos lingotes de ferro a empresa gasta uma hora-homem e uma hora-máquina, onde a tecnologia é intensiva em capital. \n",
    "\n",
    "Sejam $x_1$ e $x_2$ as quantidades fabricadas dos lingotes de aço e ferro e que a empresa dispõe de 18 horas-homem e 12 horas-máquina, respectivamente.\n",
    "\n",
    "Sabendo-se que os lucros dos lingotes de aço e ferro são de R$ 4.000,00 e R$ 1.000,00 por unidade métrica, respectivamente, quanto essa empresa deve fabricar de cada produto para obter o maior lucro possível?\n",
    "\n",
    "</div>"
   ]
  },
  {
   "cell_type": "markdown",
   "metadata": {},
   "source": [
    "<div style=\"justify\">\n",
    "<u>Ex.2: Dieta:</u>\n",
    "\n",
    "\n",
    "Para uma boa alimentação o corpo necessita de vitaminas e proteínas. \n",
    "\n",
    "A necessidade mínima de vitaminas é de 32 unidades por dia e a de proteínas é de 36 unidades por dia. \n",
    "\n",
    "Uma pessoa tem disponível carne e ovos para se alimentar. \n",
    "\n",
    "Cada unidade de carne contém 2 unidades de vitaminas e 6 unidades de proteína. \n",
    "\n",
    "Cada unidade de ovo contém 6 unidades de vitaminas e 4 de proteínas. \n",
    "\n",
    "Qual a quantidade diária de carne e ovos que deve ser consumida para suprir as necessidades de vitaminas e proteínas com o menor custo possível? \n",
    "\n",
    "Cada unidade de carne custa R$ 3,00 e cada unidade de ovo custa R$ 1,50. \n",
    "\n",
    "Qual o menor custo possível?\n",
    "</div>"
   ]
  },
  {
   "cell_type": "markdown",
   "metadata": {},
   "source": [
    "## 2. Programação Linear Inteira\n",
    "<div style=\"justify\">\n",
    "Uma pequena oficina de brinquedos produz dois tipos de brinquedos: caminhão de madeira e boneca de pano. \n",
    "\n",
    "O custo de produção de cada caminhão é de R$ 12,00 por unidade e de cada boneca de pano é de R$ 9,00 por unidade e os dois produtos são vendidos, respectivamente, por R$ 22,00 e por R$ 17,00. \n",
    "\n",
    "São necessárias 6 pessoas para fazer um lote de dez caminhões por dia e quatro pessoas para fazer um lote de 14 bonecas por dia. \n",
    "\n",
    "Existem 18 pessoas disponíveis para produzir os itens, podendo ser alocadas em qualquer um dos dois, em qualquer etapa. \n",
    "\n",
    "Devido à demanda existente é necessário fazer ao menos um lote de caminhões e um lote de bonecas por dia. \n",
    "\n",
    "Proponha como maximizar a lucratividade diária.\n",
    "\n",
    "</div>"
   ]
  },
  {
   "cell_type": "markdown",
   "metadata": {},
   "source": [
    "## 3. Problema da Mochila Binária\n",
    "\n",
    "<div style=\"justify\">\n",
    "O problema da mochila, também conhecido como problema do ladrão ou problema da ração, é um exemplo clássico de um problema de otimização combinatória que envolve a escolha de um subconjunto ótimo de objetos de um conjunto finito, considerando-se restrições sobre o peso e o valor dos objetos. O objetivo é maximizar o valor total dos objetos escolhidos para serem alocados sem ultrapassar a capacidade da mochila, que representa o limite de recursos disponíveis para a solução. \n",
    "\n",
    "O problema da mochila tem diversas aplicações práticas em áreas como planejamento, logística, criptografia e segurança.\n",
    "\n",
    "Uma forma de modelar o problema da mochila é usar variáveis inteiras binárias que indicam se um objeto é escolhido ou não. Por exemplo, se temos $n$ objetos, podemos definir as variáveis $x_1$, $x_2$, $\\dots$, $x_n$ que assumem os valores 1 ou 0, se o objeto correspondente for ou não escolhido, respectivamente. Assim, o problema da mochila pode ser formulado como:\n",
    "\n",
    "\\begin{equation*}\n",
    "    max \\;\\;\\;     \\sum_{i=1}^n v_ix_i\n",
    "\\end{equation*}  \n",
    "\n",
    "Sujeito a: \n",
    "\n",
    "\\begin{equation*}\n",
    "\\sum_{i=1}^n p_i x_i \\leq c\n",
    "\\end{equation*}\n",
    "\n",
    "\\begin{equation*}\n",
    "x_i \\in \\{ 0, 1\\},\\;i=1,2,\\dots,n    \n",
    "\\end{equation*}\n",
    "\n",
    "Onde $v_i$ corresponde ao valor e $p_i$ ao peso do objeto $i$ e $c$ é a capacidade da mochila.\n",
    "</div>"
   ]
  },
  {
   "cell_type": "markdown",
   "metadata": {},
   "source": [
    "<div style=\"justify\">\n",
    "Dada uma mochila de capacidade 10 litros e um conjunto de 4 itens únicos com tamanhos w_i (em litros) e valores v_i (em reais) associados a cada item i, de acordo com a tabela a seguir, queremos determinar quais itens devem ser colocados na mochila de modo a maximizar o valor total transportado, respeitando sua capacidade.\n",
    "</div>\n",
    "\n",
    "|   | $x_1$ | $x_2$ | $x_3$ | $x_4$ |\n",
    "| ------------- | ------------- | ------------- | ------------- | ------------- |\n",
    "| $v_i$  | R$ 10,00  | R$ 20,00  | R$ 30,00  | R$ 40,00  |\n",
    "| $w_i$  |  4 | 3 | 5 | 2 |\n",
    "\n"
   ]
  },
  {
   "cell_type": "markdown",
   "metadata": {},
   "source": [
    "## 4. Problema da Mochila Inteira\n",
    "\n",
    "<div style=\"justify\">\n",
    "Dada uma mochila de capacidade 15 litros e um conjunto de 4 itens únicos com tamanhos w_i (em litros) e valores v_i (em reais) associados a cada item i, de acordo com a tabela a seguir, queremos determinar quais e quantos itens devem ser colocados na mochila de modo a maximizar o valor total transportado, respeitando sua capacidade.\n",
    "</div>\n",
    "\n",
    "|   | $x_1$ | $x_2$ | $x_3$ | $x_4$ |\n",
    "| ------------- | ------------- | ------------- | ------------- | ------------- |\n",
    "| $v_i$  | R$ 10,00  | R$ 20,00  | R$ 30,00  | R$ 40,00  |\n",
    "| $w_i$  |  4 | 3 | 5 | 2 |"
   ]
  },
  {
   "cell_type": "markdown",
   "metadata": {},
   "source": [
    "## 5. Problema de Transporte\n",
    "\n",
    "<div style=\"justify\">\n",
    "\n",
    "</div>"
   ]
  },
  {
   "cell_type": "markdown",
   "metadata": {},
   "source": [
    "## 6. Problema de Transporte com transbordo\n",
    "\n",
    "<div style=\"justify\">\n",
    "\n",
    "</div>"
   ]
  },
  {
   "cell_type": "markdown",
   "metadata": {},
   "source": [
    "## 7. Problema de Designação\n",
    "\n",
    "<div style=\"justify\">\n",
    "\n",
    "</div>"
   ]
  }
 ],
 "metadata": {
  "language_info": {
   "name": "python"
  }
 },
 "nbformat": 4,
 "nbformat_minor": 2
}
