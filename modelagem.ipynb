{
 "cells": [
  {
   "cell_type": "markdown",
   "metadata": {},
   "source": [
    "# Modelagem de Problemas - Pesquisa Operacional\n",
    "\n",
    "## 1. Problema - Mix de Produção / Mistura\n",
    "\n",
    "<hr>\n",
    "<div style=\"justify\">\n",
    "<u>Ex.1: Produção de lingotes metal:</u>\n",
    "\n",
    "\n",
    "Uma empresa fabrica dois produtos, lingotes de aço e lingotes de ferro. \n",
    "\n",
    "Na fabricação dos lingotes de aço a empresa gasta nove horas-homem e três horas-máquina por metro linear, onde a tecnologia utilizada é intensiva em mão-de-obra. \n",
    "\n",
    "Na fabricação dos lingotes de ferro a empresa gasta uma hora-homem e uma hora-máquina por metro linear, onde a tecnologia é intensiva em capital. \n",
    "\n",
    "As instalações da empresa permitem a fabricação de apenas um tipo de lingote por vez.\n",
    "\n",
    "Sejam $x_1$ e $x_2$ as quantidades fabricadas dos lingotes de aço e ferro e que a empresa dispõe de 18 horas-homem e 12 horas-máquina, respectivamente.\n",
    "\n",
    "Sabendo-se que os lucros dos lingotes de aço e ferro são de RS 4.000,00 e RS 1.000,00 por unidade métrica, respectivamente, quanto essa empresa deve fabricar de cada produto para obter o maior lucro possível?\n",
    "</div>\n",
    "\n",
    "<hr>"
   ]
  },
  {
   "cell_type": "markdown",
   "metadata": {},
   "source": [
    "### Variáveis de Decisão:\n",
    "\n",
    "$x_1$: metro linear de lingote de aço\n",
    "\n",
    "$x_2$: metro linear de lingote de ferro"
   ]
  },
  {
   "cell_type": "markdown",
   "metadata": {},
   "source": [
    "### Função objetivo:\n",
    "\n",
    "\\begin{equation}\n",
    "    \\text{Máx }f(x_1,x_2)=4000x_1+1000x_2\n",
    "\\end{equation}\n"
   ]
  },
  {
   "cell_type": "markdown",
   "metadata": {},
   "source": [
    "### Restrições:\n",
    "\n",
    "\\begin{equation}\n",
    "    \\text{s.a.}\\left \\{ \\begin{matrix}\n",
    "    9x_1+x_2\\leq 18\\text{ ------> horas-homem}\\\\\n",
    "    3x_1+x_2\\leq 12\\text{ ------> horas-máquina}\\\\\n",
    "    x_1\\geq0,\\;x_2\\geq0\n",
    "    \\end{matrix}\\right .\n",
    "\\end{equation}"
   ]
  },
  {
   "cell_type": "code",
   "execution_count": 3,
   "metadata": {},
   "outputs": [],
   "source": [
    "using HiGHS, JuMP"
   ]
  },
  {
   "cell_type": "code",
   "execution_count": 4,
   "metadata": {},
   "outputs": [
    {
     "data": {
      "text/latex": [
       "$ 4000 x_{1} + 1000 x_{2} $"
      ],
      "text/plain": [
       "4000 x[1] + 1000 x[2]"
      ]
     },
     "execution_count": 4,
     "metadata": {},
     "output_type": "execute_result"
    }
   ],
   "source": [
    "model = Model(HiGHS.Optimizer)\n",
    "@variable(model, x[i=1:2] >= 0)\n",
    "\n",
    "c = [4000;1000]\n",
    "\n",
    "@objective(model, Max, c'x)"
   ]
  },
  {
   "cell_type": "code",
   "execution_count": 5,
   "metadata": {},
   "outputs": [
    {
     "data": {
      "text/plain": [
       "2-element Vector{ConstraintRef{Model, MathOptInterface.ConstraintIndex{MathOptInterface.ScalarAffineFunction{Float64}, MathOptInterface.LessThan{Float64}}, ScalarShape}}:\n",
       " restr[1] : 9 x[1] + x[2] ≤ 18\n",
       " restr[2] : 3 x[1] + x[2] ≤ 12"
      ]
     },
     "execution_count": 5,
     "metadata": {},
     "output_type": "execute_result"
    }
   ],
   "source": [
    "A = [9 1;\n",
    "    3 1\n",
    "]\n",
    "\n",
    "b=[18;12]\n",
    "\n",
    "@constraint(model, restr[j=1:2], A[j,:]'*x<=b[j])"
   ]
  },
  {
   "cell_type": "code",
   "execution_count": 6,
   "metadata": {},
   "outputs": [
    {
     "name": "stdout",
     "output_type": "stream",
     "text": [
      "Max 4000 x[1] + 1000 x[2]\n",
      "Subject to\n",
      " restr[1] : 9 x[1] + x[2] ≤ 18\n",
      " restr[2] : 3 x[1] + x[2] ≤ 12\n",
      " x[1] ≥ 0\n",
      " x[2] ≥ 0\n",
      "\n",
      "\n"
     ]
    }
   ],
   "source": [
    "println(model,\"\\n\")"
   ]
  },
  {
   "cell_type": "code",
   "execution_count": 7,
   "metadata": {},
   "outputs": [
    {
     "name": "stdout",
     "output_type": "stream",
     "text": [
      "Running HiGHS 1.6.0: Copyright (c) 2023 HiGHS under MIT licence terms\n",
      "Presolving model\n",
      "2 rows, 2 cols, 4 nonzeros\n",
      "2 rows, 2 cols, 4 nonzeros\n",
      "Presolve : Reductions: rows 2(-0); columns 2(-0); elements 4(-0) - Not reduced\n",
      "Problem not reduced by presolve: solving the LP\n",
      "Using EKK dual simplex solver - serial\n",
      "  Iteration        Objective     Infeasibilities num(sum)\n",
      "          0    -1.9999984617e+03 Ph1: 2(5); Du: 2(2000) 0s\n",
      "          2     1.3000000000e+04 Pr: 0(0) 0s\n",
      "Model   status      : Optimal\n",
      "Simplex   iterations: 2\n",
      "Objective value     :  1.3000000000e+04\n",
      "HiGHS run time      :          0.01\n"
     ]
    }
   ],
   "source": [
    "optimize!(model);"
   ]
  },
  {
   "cell_type": "code",
   "execution_count": 8,
   "metadata": {},
   "outputs": [
    {
     "name": "stdout",
     "output_type": "stream",
     "text": [
      "13000.0"
     ]
    }
   ],
   "source": [
    "print(objective_value(model))"
   ]
  },
  {
   "cell_type": "code",
   "execution_count": 9,
   "metadata": {},
   "outputs": [
    {
     "name": "stdout",
     "output_type": "stream",
     "text": [
      "[1.0, 9.0]\n"
     ]
    }
   ],
   "source": [
    "println(value.(x))"
   ]
  },
  {
   "cell_type": "code",
   "execution_count": 10,
   "metadata": {},
   "outputs": [
    {
     "data": {
      "text/plain": [
       "A JuMP Model\n",
       "Feasibility problem with:\n",
       "Variables: 0\n",
       "Model mode: AUTOMATIC\n",
       "CachingOptimizer state: EMPTY_OPTIMIZER\n",
       "Solver name: HiGHS"
      ]
     },
     "execution_count": 10,
     "metadata": {},
     "output_type": "execute_result"
    }
   ],
   "source": [
    "empty!(model)"
   ]
  },
  {
   "cell_type": "markdown",
   "metadata": {},
   "source": [
    "<hr>\n",
    "<div style=\"justify\">\n",
    "<u>Ex.2: Dieta:</u>\n",
    "\n",
    "\n",
    "Para uma boa alimentação o corpo necessita de vitaminas e proteínas. \n",
    "\n",
    "A necessidade mínima de vitaminas é de 32 unidades por dia e a de proteínas é de 36 unidades por dia. \n",
    "\n",
    "Uma pessoa tem disponível carne e ovos para se alimentar. \n",
    "\n",
    "Cada unidade de carne contém 2 unidades de vitaminas e 6 unidades de proteína. \n",
    "\n",
    "Cada unidade de ovo contém 6 unidades de vitaminas e 4 de proteínas. \n",
    "\n",
    "Qual a quantidade diária de carne e ovos que deve ser consumida para suprir as necessidades de vitaminas e proteínas com o menor custo possível? \n",
    "\n",
    "Cada unidade de carne custa RS 3,00 e cada unidade de ovo custa RS 1,50. \n",
    "\n",
    "Qual o menor custo possível?\n",
    "</div>\n",
    "<hr>"
   ]
  },
  {
   "cell_type": "markdown",
   "metadata": {},
   "source": [
    "### Variáveis de Decisão:\n",
    "\n",
    "$x_c$: unidades de carne;\n",
    "\n",
    "$x_o$: unidades de ovo;"
   ]
  },
  {
   "cell_type": "markdown",
   "metadata": {},
   "source": [
    "### Função objetivo\n",
    "\n",
    "\\begin{equation}\n",
    "    \\text{Min }f(x_c, x_o)=3x_c+1,5x_o\n",
    "\\end{equation}"
   ]
  },
  {
   "cell_type": "markdown",
   "metadata": {},
   "source": [
    "### Restrições:\n",
    "\n",
    "\\begin{equation}\n",
    "    \\text{s.a.}\\left \\{ \\begin{matrix}\n",
    "        2x_c + 6x_o \\geq 32\\text{ ------> Vitaminas}\\\\\n",
    "        6x_c + 4x_o \\geq 36\\text{ ------> Proteínas}\\\\\n",
    "    x_c\\geq0,\\;x_o\\geq0\n",
    "    \\end{matrix}\\right .\n",
    "\\end{equation}"
   ]
  },
  {
   "cell_type": "code",
   "execution_count": 11,
   "metadata": {},
   "outputs": [
    {
     "data": {
      "text/latex": [
       "$ 3 x_{1} + 1.5 x_{2} $"
      ],
      "text/plain": [
       "3 x[1] + 1.5 x[2]"
      ]
     },
     "execution_count": 11,
     "metadata": {},
     "output_type": "execute_result"
    }
   ],
   "source": [
    "model = Model(HiGHS.Optimizer)\n",
    "@variable(model, x[i=1:2] >= 0)\n",
    "\n",
    "c = [3;1.5]\n",
    "\n",
    "@objective(model, Min, c'x)"
   ]
  },
  {
   "cell_type": "code",
   "execution_count": 12,
   "metadata": {},
   "outputs": [
    {
     "data": {
      "text/plain": [
       "2-element Vector{ConstraintRef{Model, MathOptInterface.ConstraintIndex{MathOptInterface.ScalarAffineFunction{Float64}, MathOptInterface.GreaterThan{Float64}}, ScalarShape}}:\n",
       " restr[1] : 2 x[1] + 6 x[2] ≥ 32\n",
       " restr[2] : 6 x[1] + 4 x[2] ≥ 36"
      ]
     },
     "execution_count": 12,
     "metadata": {},
     "output_type": "execute_result"
    }
   ],
   "source": [
    "A = [2 6;\n",
    "    6 4\n",
    "]\n",
    "\n",
    "b=[32;36]\n",
    "\n",
    "@constraint(model, restr[j=1:2], A[j,:]'*x>=b[j])"
   ]
  },
  {
   "cell_type": "code",
   "execution_count": 13,
   "metadata": {},
   "outputs": [
    {
     "name": "stdout",
     "output_type": "stream",
     "text": [
      "Min 3 x[1] + 1.5 x[2]\n",
      "Subject to\n",
      " restr[1] : 2 x[1] + 6 x[2] ≥ 32\n",
      " restr[2] : 6 x[1] + 4 x[2] ≥ 36\n",
      " x[1] ≥ 0\n",
      " x[2] ≥ 0\n",
      "\n",
      "\n"
     ]
    }
   ],
   "source": [
    "println(model,\"\\n\")"
   ]
  },
  {
   "cell_type": "code",
   "execution_count": 14,
   "metadata": {},
   "outputs": [
    {
     "name": "stdout",
     "output_type": "stream",
     "text": [
      "Running HiGHS 1.6.0: Copyright (c) 2023 HiGHS under MIT licence terms\n",
      "Presolving model\n",
      "2 rows, 2 cols, 4 nonzeros\n",
      "0 rows, 0 cols, 0 nonzeros\n",
      "Presolve : Reductions: rows 0(-2); columns 0(-2); elements 0(-4) - Reduced to empty\n",
      "Solving the original LP from the solution after postsolve\n",
      "Model   status      : Optimal\n",
      "Objective value     :  1.3500000000e+01\n",
      "HiGHS run time      :          0.00\n"
     ]
    }
   ],
   "source": [
    "optimize!(model);"
   ]
  },
  {
   "cell_type": "code",
   "execution_count": 15,
   "metadata": {},
   "outputs": [
    {
     "name": "stdout",
     "output_type": "stream",
     "text": [
      "13.5"
     ]
    }
   ],
   "source": [
    "print(objective_value(model))"
   ]
  },
  {
   "cell_type": "code",
   "execution_count": 16,
   "metadata": {},
   "outputs": [
    {
     "name": "stdout",
     "output_type": "stream",
     "text": [
      "[0.0, 9.0]\n"
     ]
    }
   ],
   "source": [
    "println(value.(x))"
   ]
  },
  {
   "cell_type": "code",
   "execution_count": 17,
   "metadata": {},
   "outputs": [
    {
     "data": {
      "text/plain": [
       "A JuMP Model\n",
       "Feasibility problem with:\n",
       "Variables: 0\n",
       "Model mode: AUTOMATIC\n",
       "CachingOptimizer state: EMPTY_OPTIMIZER\n",
       "Solver name: HiGHS"
      ]
     },
     "execution_count": 17,
     "metadata": {},
     "output_type": "execute_result"
    }
   ],
   "source": [
    "empty!(model)"
   ]
  },
  {
   "cell_type": "markdown",
   "metadata": {},
   "source": [
    "<hr>\n",
    "\n",
    "## 2. Programação Linear Inteira\n",
    "<div style=\"justify\">\n",
    "Uma pequena oficina de brinquedos produz dois tipos de brinquedos: caminhão de madeira e boneca de pano. \n",
    "\n",
    "\n",
    "O custo de produção de cada caminhão é de RS 12,00 por unidade e de cada boneca de pano é de RS 9,00 por unidade e os dois produtos são vendidos, respectivamente, por RS 22,00 e por RS 17,00. \n",
    "\n",
    "São necessárias 6 pessoas para fazer um lote de dez caminhões por dia e quatro pessoas para fazer um lote de 14 bonecas por dia. \n",
    "\n",
    "Existem 18 pessoas disponíveis para produzir os itens, podendo ser alocadas em qualquer um dos dois, em qualquer etapa. \n",
    "\n",
    "Devido à demanda existente é necessário fazer ao menos um lote de caminhões e um lote de bonecas por dia. \n",
    "\n",
    "Proponha como maximizar a lucratividade diária.\n",
    "\n",
    "</div>\n",
    "<hr>"
   ]
  },
  {
   "cell_type": "code",
   "execution_count": 18,
   "metadata": {},
   "outputs": [
    {
     "data": {
      "text/plain": [
       "10"
      ]
     },
     "execution_count": 18,
     "metadata": {},
     "output_type": "execute_result"
    }
   ],
   "source": [
    "# Lucro de cada Caminhão de madeira\n",
    "22-12"
   ]
  },
  {
   "cell_type": "code",
   "execution_count": 19,
   "metadata": {},
   "outputs": [
    {
     "data": {
      "text/plain": [
       "8"
      ]
     },
     "execution_count": 19,
     "metadata": {},
     "output_type": "execute_result"
    }
   ],
   "source": [
    "# Lucro de cada boneca\n",
    "17-9"
   ]
  },
  {
   "cell_type": "markdown",
   "metadata": {},
   "source": [
    "### Variáveis de Decisão\n",
    "\n",
    "$x_c$: Quantidade de Caminhões de Madeira (lote de 10);\n",
    "\n",
    "$x_b$: Quantidade de Bonecas de Pano (lote de 14);"
   ]
  },
  {
   "cell_type": "markdown",
   "metadata": {},
   "source": [
    "### Função Objetivo\n",
    "\n",
    "\\begin{equation}\n",
    "    \\text{Máx } f(x_c,x_b)=10\\cdot10 x_c +8\\cdot14x_b\n",
    "\\end{equation}"
   ]
  },
  {
   "cell_type": "markdown",
   "metadata": {},
   "source": [
    "### Restições\n",
    "\n",
    "### Restrições:\n",
    "\n",
    "\\begin{equation}\n",
    "    \\text{s.a.}\\left \\{ \\begin{matrix}\n",
    "        6x_c + 4x_b \\leq 18\\\\\n",
    "    x_c\\geq1,\\;x_b\\geq1\\\\\n",
    "    x_c,x_b\\in\\mathbb{Z}\\\\\n",
    "    \\end{matrix}\\right .\n",
    "\\end{equation}"
   ]
  },
  {
   "cell_type": "code",
   "execution_count": 20,
   "metadata": {},
   "outputs": [
    {
     "data": {
      "text/latex": [
       "$ 100 x_{1} + 112 x_{2} $"
      ],
      "text/plain": [
       "100 x[1] + 112 x[2]"
      ]
     },
     "execution_count": 20,
     "metadata": {},
     "output_type": "execute_result"
    }
   ],
   "source": [
    "model = Model(HiGHS.Optimizer)\n",
    "@variable(model, x[i=1:2] >= 1, Int)\n",
    "\n",
    "c = [\n",
    "    10*10;\n",
    "    8*14\n",
    "]\n",
    "\n",
    "@objective(model, Max, c'x)"
   ]
  },
  {
   "cell_type": "code",
   "execution_count": 21,
   "metadata": {},
   "outputs": [
    {
     "data": {
      "text/plain": [
       "1-element Vector{ConstraintRef{Model, MathOptInterface.ConstraintIndex{MathOptInterface.ScalarAffineFunction{Float64}, MathOptInterface.LessThan{Float64}}, ScalarShape}}:\n",
       " restr[1] : 6 x[1] + 4 x[2] ≤ 18"
      ]
     },
     "execution_count": 21,
     "metadata": {},
     "output_type": "execute_result"
    }
   ],
   "source": [
    "A = [6 4]\n",
    "\n",
    "b=[18]\n",
    "\n",
    "@constraint(model, restr[j=1:1], A[j,:]'*x<=b[j])"
   ]
  },
  {
   "cell_type": "code",
   "execution_count": 22,
   "metadata": {},
   "outputs": [
    {
     "name": "stdout",
     "output_type": "stream",
     "text": [
      "Max 100 x[1] + 112 x[2]\n",
      "Subject to\n",
      " restr[1] : 6 x[1] + 4 x[2] ≤ 18\n",
      " x[1] ≥ 1\n",
      " x[2] ≥ 1\n",
      " x[1] integer\n",
      " x[2] integer\n",
      "\n",
      "\n"
     ]
    }
   ],
   "source": [
    "println(model,\"\\n\")"
   ]
  },
  {
   "cell_type": "code",
   "execution_count": 23,
   "metadata": {},
   "outputs": [
    {
     "name": "stdout",
     "output_type": "stream",
     "text": [
      "Running HiGHS 1.6.0: Copyright (c) 2023 HiGHS under MIT licence terms\n",
      "Presolving model\n",
      "1 rows, 2 cols, 2 nonzeros\n",
      "0 rows, 0 cols, 0 nonzeros\n",
      "Presolve: Optimal\n",
      "\n",
      "Solving report\n",
      "  Status            Optimal\n",
      "  Primal bound      436\n",
      "  Dual bound        436\n",
      "  Gap               0% (tolerance: 0.01%)\n",
      "  Solution status   feasible\n",
      "                    436 (objective)\n",
      "                    0 (bound viol.)\n",
      "                    0 (int. viol.)\n",
      "                    0 (row viol.)\n",
      "  Timing            0.00 (total)\n",
      "                    0.00 (presolve)\n",
      "                    0.00 (postsolve)\n",
      "  Nodes             0\n",
      "  LP iterations     0 (total)\n",
      "                    0 (strong br.)\n",
      "                    0 (separation)\n",
      "                    0 (heuristics)\n"
     ]
    }
   ],
   "source": [
    "optimize!(model);"
   ]
  },
  {
   "cell_type": "code",
   "execution_count": 24,
   "metadata": {},
   "outputs": [
    {
     "name": "stdout",
     "output_type": "stream",
     "text": [
      "436.0"
     ]
    }
   ],
   "source": [
    "print(objective_value(model))"
   ]
  },
  {
   "cell_type": "code",
   "execution_count": 25,
   "metadata": {},
   "outputs": [
    {
     "name": "stdout",
     "output_type": "stream",
     "text": [
      "[1.0, 3.0]\n"
     ]
    }
   ],
   "source": [
    "println(value.(x))"
   ]
  },
  {
   "cell_type": "code",
   "execution_count": 26,
   "metadata": {},
   "outputs": [
    {
     "data": {
      "text/plain": [
       "A JuMP Model\n",
       "Feasibility problem with:\n",
       "Variables: 0\n",
       "Model mode: AUTOMATIC\n",
       "CachingOptimizer state: EMPTY_OPTIMIZER\n",
       "Solver name: HiGHS"
      ]
     },
     "execution_count": 26,
     "metadata": {},
     "output_type": "execute_result"
    }
   ],
   "source": [
    "empty!(model)"
   ]
  },
  {
   "cell_type": "markdown",
   "metadata": {},
   "source": [
    "<hr>\n",
    "\n",
    "Para não precisarmos repetir cada comando do algoritmo de otimização novamente, iremos construir uma função computacional:"
   ]
  },
  {
   "cell_type": "code",
   "execution_count": 27,
   "metadata": {},
   "outputs": [
    {
     "data": {
      "text/plain": [
       "solve (generic function with 1 method)"
      ]
     },
     "execution_count": 27,
     "metadata": {},
     "output_type": "execute_result"
    }
   ],
   "source": [
    "# Entrada:\n",
    "\n",
    "# Vetor pesos da função objetivo: c = [c1; c2; ...; cn]\n",
    "\n",
    "# Matriz de coeficientes associada às restrições: A =[1 2; 3 4]\n",
    "\n",
    "# Vetor de valores resultantes das desigualdades das restrições: b = [1; 2; ...; n]\n",
    "\n",
    "# tipo de variável: Cont, Int, Bin\n",
    "function solve(c,A,b,t)\n",
    "    model = Model(HiGHS.Optimizer)\n",
    "    if t == \"Int\"\n",
    "        @variable(model, x[i=1:size(c)[1]] >= 0, Int)\n",
    "    elseif t == \"Bin\"\n",
    "        @variable(model, x[i=1:size(c)[1]] >= 0, Bin)\n",
    "    else\n",
    "        @variable(model, x[i=1:size(c)[1]] >= 0)\n",
    "    end\n",
    "    @objective(model, Max, c'x)\n",
    "    @constraint(model, restr[j=1:size(A)[1]], A[j,:]'*x<=b[j])\n",
    "    println(model,\"\\n\")\n",
    "    optimize!(model);\n",
    "    print(\"\\n\\n Solução ótima: \")\n",
    "    println(value.(x))\n",
    "    println(\"\\n \\n Valor da função objetivo para a solução ótima: z* = \",objective_value(model))\n",
    "    empty!(model)\n",
    "end"
   ]
  },
  {
   "cell_type": "code",
   "execution_count": 28,
   "metadata": {},
   "outputs": [
    {
     "name": "stdout",
     "output_type": "stream",
     "text": [
      "Max 100 x[1] + 112 x[2]\n",
      "Subject to\n",
      " restr[1] : 6 x[1] + 4 x[2] ≤ 18\n",
      " x[1] ≥ 0\n",
      " x[2] ≥ 0\n",
      " x[1] binary\n",
      " x[2] binary\n",
      "\n",
      "\n",
      "Running HiGHS 1.6.0: Copyright (c) 2023 HiGHS under MIT licence terms\n",
      "Presolving model\n",
      "0 rows, 0 cols, 0 nonzeros\n",
      "0 rows, 0 cols, 0 nonzeros\n",
      "Presolve: Optimal\n",
      "\n",
      "Solving report\n",
      "  Status            Optimal\n",
      "  Primal bound      212\n",
      "  Dual bound        212\n",
      "  Gap               0% (tolerance: 0.01%)\n",
      "  Solution status   feasible\n",
      "                    212 (objective)\n",
      "                    0 (bound viol.)\n",
      "                    0 (int. viol.)\n",
      "                    0 (row viol.)\n",
      "  Timing            0.00 (total)\n",
      "                    0.00 (presolve)\n",
      "                    0.00 (postsolve)\n",
      "  Nodes             0\n",
      "  LP iterations     0 (total)\n",
      "                    0 (strong br.)\n",
      "                    0 (separation)\n",
      "                    0 (heuristics)\n",
      "\n",
      "\n",
      " Solução ótima: [1.0, 1.0]\n",
      "\n",
      " \n",
      " Valor da função objetivo para a solução ótima: z* = 212.0\n"
     ]
    },
    {
     "data": {
      "text/plain": [
       "A JuMP Model\n",
       "Feasibility problem with:\n",
       "Variables: 0\n",
       "Model mode: AUTOMATIC\n",
       "CachingOptimizer state: EMPTY_OPTIMIZER\n",
       "Solver name: HiGHS"
      ]
     },
     "execution_count": 28,
     "metadata": {},
     "output_type": "execute_result"
    }
   ],
   "source": [
    "# Exemplo anterior:\n",
    "c = [\n",
    "    10*10;\n",
    "    8*14\n",
    "]\n",
    "\n",
    "A = [6 4]\n",
    "\n",
    "b = [18]\n",
    "\n",
    "solve(c,A,b,\"Bin\")"
   ]
  },
  {
   "cell_type": "markdown",
   "metadata": {},
   "source": [
    "<hr>\n",
    "\n",
    "## 2.1. Programação Linear Inteira Mista\n",
    "<div style=\"justify\">\n",
    "\n",
    "Deseja-se preparar uma ração que contenha no mínimo 7 unidades de $V_A$, 9 unidades de $V_B$ e 1 unidade de P.\n",
    "\n",
    "\n",
    "\n",
    "| Nutrientes | Milho (M) | F. Osso (F) | Quantidade Mínima |\n",
    "| ------------- | ------------- | ------------- | ------------- |\n",
    "| Vitamina A ($V_A$) | 2 | 3 | 7 |\n",
    "| Vitamina B ($V_B$) | 3 | 2 | 9 |\n",
    "| Proteína (P) | 1 | 0 | 1 |\n",
    "| Custos (RS/kg) | 40 | 50 | |\n",
    "\n",
    "\n",
    "Como misturar (as quantidades) os ingredientes de modo a atender as necessidades nutricionais e produzir uma ração de menor custo possível?\n",
    "</div>\n",
    "<hr>"
   ]
  },
  {
   "cell_type": "markdown",
   "metadata": {},
   "source": [
    "### Variáveis de decisão:\n",
    "\n",
    "$x_M$ = quantidade de milho adicionado a mistura (kg).\n",
    "\n",
    "$x_F$ = quantidade de farinha de osso adicionado a mistura (kg)."
   ]
  },
  {
   "cell_type": "markdown",
   "metadata": {},
   "source": [
    "### Função objetivo\n",
    "\n",
    "\\begin{equation}\n",
    "    \\text{Min }f(x_M,x_F)=40x_M+50x_F\n",
    "\\end{equation}"
   ]
  },
  {
   "cell_type": "markdown",
   "metadata": {},
   "source": [
    "### Restrições\n",
    "\n",
    "\\begin{equation}\n",
    "    \\text{s.a. }\\left \\{ \\begin{matrix}\n",
    "    2x_M+3x_F & \\geq & 7\\\\\n",
    "    3x_M+2x_F & \\geq & 9\\\\\n",
    "    1x_M+0x_F & \\geq & 1\\\\\n",
    "    x_M\\geq0, x_F\\geq0.&&\\\\\n",
    "    \\end{matrix}\\right . \n",
    "\\end{equation}"
   ]
  },
  {
   "cell_type": "markdown",
   "metadata": {},
   "source": [
    "<hr>\n",
    "\n",
    "<div style=\"center\">\n",
    "<img title=\"\" src=\"https://raw.githubusercontent.com/Daniel-C-Fernandes/PO-2-bimestre/main/PIM-1.png\" alt=\"transporte\" style=\"zoom:15%\">\n",
    "<br>\n",
    "\n",
    "<img title=\"\" src=\"https://raw.githubusercontent.com/Daniel-C-Fernandes/PO-2-bimestre/main/PIM-2.png\" alt=\"transporte\" style=\"zoom:15%\">\n",
    "<br>\n",
    "\n",
    "<img title=\"\" src=\"https://raw.githubusercontent.com/Daniel-C-Fernandes/PO-2-bimestre/main/PMI-3.png\" alt=\"transporte\" style=\"zoom:15%\">\n",
    "<br>\n",
    "\n",
    "<img title=\"\" src=\"https://raw.githubusercontent.com/Daniel-C-Fernandes/PO-2-bimestre/main/PMI-4.png\" alt=\"transporte\" style=\"zoom:15%\">\n",
    "\n",
    "<br>\n",
    "\n",
    "\\begin{equation}\n",
    "    \\text{s.a. }\\left \\{ \\begin{matrix}\n",
    "    2x_M+3x_F & \\geq & 7\\\\\n",
    "    3x_M+2x_F & \\geq & 9\\\\\n",
    "    1x_M+0x_F & \\geq & 1\\\\\n",
    "    x_M\\geq0, x_F\\geq0.&&\\\\\n",
    "    \\end{matrix}\\right . \n",
    "\\end{equation}\n",
    "\n",
    "\n",
    "\n",
    "<hr>"
   ]
  },
  {
   "cell_type": "code",
   "execution_count": 52,
   "metadata": {},
   "outputs": [
    {
     "data": {
      "text/plain": [
       "2×2 Matrix{Int64}:\n",
       " 2  3\n",
       " 3  2"
      ]
     },
     "execution_count": 52,
     "metadata": {},
     "output_type": "execute_result"
    }
   ],
   "source": [
    "A = [\n",
    "    2 3;\n",
    "    3 2\n",
    "]"
   ]
  },
  {
   "cell_type": "code",
   "execution_count": 57,
   "metadata": {},
   "outputs": [
    {
     "data": {
      "text/plain": [
       "2-element Vector{Int64}:\n",
       " 7\n",
       " 9"
      ]
     },
     "execution_count": 57,
     "metadata": {},
     "output_type": "execute_result"
    }
   ],
   "source": [
    "b = [\n",
    "    7;\n",
    "    9\n",
    "]"
   ]
  },
  {
   "cell_type": "code",
   "execution_count": 67,
   "metadata": {},
   "outputs": [
    {
     "data": {
      "text/plain": [
       "2-element Vector{Float64}:\n",
       " 2.6\n",
       " 0.6000000000000002"
      ]
     },
     "execution_count": 67,
     "metadata": {},
     "output_type": "execute_result"
    }
   ],
   "source": [
    "x = A\\b"
   ]
  },
  {
   "cell_type": "markdown",
   "metadata": {},
   "source": [
    "<hr>\n",
    "\n",
    "<img title=\"\" src=\"https://raw.githubusercontent.com/Daniel-C-Fernandes/PO-2-bimestre/main/PMI-5.png\" alt=\"transporte\" style=\"zoom:15%; align: center\">\n",
    "\n",
    "<hr>"
   ]
  },
  {
   "cell_type": "code",
   "execution_count": 60,
   "metadata": {},
   "outputs": [
    {
     "data": {
      "text/plain": [
       "134.0"
      ]
     },
     "execution_count": 60,
     "metadata": {},
     "output_type": "execute_result"
    }
   ],
   "source": [
    "40x[1] + 50x[2]"
   ]
  },
  {
   "cell_type": "markdown",
   "metadata": {},
   "source": [
    "<hr>"
   ]
  },
  {
   "cell_type": "code",
   "execution_count": 37,
   "metadata": {},
   "outputs": [
    {
     "name": "stdout",
     "output_type": "stream",
     "text": [
      "Max -40 x[1] - 50 x[2]\n",
      "Subject to\n",
      " restr[1] : -2 x[1] - 3 x[2] ≤ -7\n",
      " restr[2] : -3 x[1] - 2 x[2] ≤ -9\n",
      " restr[3] : -x[1] ≤ -1\n",
      " x[1] ≥ 0\n",
      " x[2] ≥ 0\n",
      "\n",
      "\n",
      "Running HiGHS 1.6.0: Copyright (c) 2023 HiGHS under MIT licence terms\n",
      "Presolving model\n",
      "2 rows, 2 cols, 4 nonzeros\n",
      "2 rows, 2 cols, 4 nonzeros\n",
      "Presolve : Reductions: rows 2(-1); columns 2(-0); elements 4(-1)\n",
      "Solving the presolved LP\n",
      "Using EKK dual simplex solver - serial\n",
      "  Iteration        Objective     Infeasibilities num(sum)\n",
      "          0     4.0000034539e+01 Pr: 2(11) 0s\n",
      "          2     1.3400000000e+02 Pr: 0(0) 0s\n",
      "Solving the original LP from the solution after postsolve\n",
      "Model   status      : Optimal\n",
      "Simplex   iterations: 2\n",
      "Objective value     : -1.3400000000e+02\n",
      "HiGHS run time      :          0.00\n",
      "\n",
      "\n",
      " Solução ótima: [2.6, 0.6]\n",
      "\n",
      " \n",
      " Valor da função objetivo para a solução ótima: z* = -134.0\n"
     ]
    },
    {
     "data": {
      "text/plain": [
       "A JuMP Model\n",
       "Feasibility problem with:\n",
       "Variables: 0\n",
       "Model mode: AUTOMATIC\n",
       "CachingOptimizer state: EMPTY_OPTIMIZER\n",
       "Solver name: HiGHS"
      ]
     },
     "execution_count": 37,
     "metadata": {},
     "output_type": "execute_result"
    }
   ],
   "source": [
    "# Exemplo anterior:\n",
    "c = [\n",
    "    -40;\n",
    "    -50\n",
    "]\n",
    "\n",
    "A = [\n",
    "    -2 -3;\n",
    "    -3 -2;\n",
    "    -1 0;\n",
    "]\n",
    "\n",
    "b = [\n",
    "    -7;\n",
    "    -9;\n",
    "    -1;\n",
    "]\n",
    "\n",
    "solve(c,A,b,\"\")"
   ]
  },
  {
   "cell_type": "markdown",
   "metadata": {},
   "source": [
    "<hr>\n",
    "\n",
    "Suponha agora que o ingrediente MILHO possa ser comprado APENAS por meio de sacos e a Farinha de osso a granel (por kg).\n",
    "\n",
    "Neste caso, o modelo ficaria com essa alteração:"
   ]
  },
  {
   "cell_type": "markdown",
   "metadata": {},
   "source": [
    "### Restrições\n",
    "\n",
    "\\begin{equation}\n",
    "    \\text{s.a. }\\left \\{ \\begin{matrix}\n",
    "    2x_M+3x_F & \\geq & 7\\\\\n",
    "    3x_M+2x_F & \\geq & 9\\\\\n",
    "    1x_M+0x_F & \\geq & 1\\\\\n",
    "    x_F\\geq0&&\\\\\n",
    "    x_M\\in\\mathbb{Z}&&\\\\\n",
    "    \\end{matrix}\\right . \n",
    "\\end{equation}"
   ]
  },
  {
   "cell_type": "markdown",
   "metadata": {},
   "source": [
    "### Solução do problema relaxado:\n",
    "\n",
    "<img title=\"\" src=\"https://raw.githubusercontent.com/Daniel-C-Fernandes/PO-2-bimestre/main/PMI-5.png\" alt=\"transporte\" style=\"zoom:15%; align: center\">\n",
    "<br>\n"
   ]
  },
  {
   "cell_type": "code",
   "execution_count": 68,
   "metadata": {},
   "outputs": [
    {
     "data": {
      "text/plain": [
       "2-element Vector{Float64}:\n",
       " 2.6\n",
       " 0.6000000000000002"
      ]
     },
     "execution_count": 68,
     "metadata": {},
     "output_type": "execute_result"
    }
   ],
   "source": [
    "x"
   ]
  },
  {
   "cell_type": "code",
   "execution_count": 69,
   "metadata": {},
   "outputs": [
    {
     "data": {
      "text/plain": [
       "134.0"
      ]
     },
     "execution_count": 69,
     "metadata": {},
     "output_type": "execute_result"
    }
   ],
   "source": [
    "40x[1] + 50x[2]"
   ]
  },
  {
   "cell_type": "code",
   "execution_count": 70,
   "metadata": {},
   "outputs": [
    {
     "data": {
      "text/plain": [
       "2-element Vector{Float64}:\n",
       " 3.0\n",
       " 1.0"
      ]
     },
     "execution_count": 70,
     "metadata": {},
     "output_type": "execute_result"
    }
   ],
   "source": [
    "x = round.(x)"
   ]
  },
  {
   "cell_type": "code",
   "execution_count": 71,
   "metadata": {},
   "outputs": [
    {
     "data": {
      "text/plain": [
       "170.0"
      ]
     },
     "execution_count": 71,
     "metadata": {},
     "output_type": "execute_result"
    }
   ],
   "source": [
    "40x[1] + 50x[2]"
   ]
  },
  {
   "cell_type": "markdown",
   "metadata": {},
   "source": [
    "### Solução do problema inteiro:\n",
    "\n",
    "<img title=\"\" src=\"https://raw.githubusercontent.com/Daniel-C-Fernandes/PO-2-bimestre/main/PIM-7.png\" alt=\"transporte\" style=\"zoom:15%; align: center\">\n"
   ]
  },
  {
   "cell_type": "code",
   "execution_count": 65,
   "metadata": {},
   "outputs": [
    {
     "data": {
      "text/plain": [
       "160"
      ]
     },
     "execution_count": 65,
     "metadata": {},
     "output_type": "execute_result"
    }
   ],
   "source": [
    "40*4 + 50*0"
   ]
  },
  {
   "cell_type": "markdown",
   "metadata": {},
   "source": [
    "### Solução do Problema Inteiro Misto\n",
    "\n",
    "\n",
    "<img title=\"\" src=\"https://raw.githubusercontent.com/Daniel-C-Fernandes/PO-2-bimestre/main/PIM-8.png\" alt=\"transporte\" style=\"zoom:15%; align: center\">\n"
   ]
  },
  {
   "cell_type": "markdown",
   "metadata": {},
   "source": [
    "\\begin{equation}\n",
    "    \\text{s.a. }\\left \\{ \\begin{matrix}\n",
    "    2x_M+3x_F & \\geq & 7\\\\\n",
    "    3x_M+2x_F & \\geq & 9\\\\\n",
    "    1x_M+0x_F & \\geq & 1\\\\\n",
    "    x_F\\geq0&&\\\\\n",
    "    x_M\\in\\mathbb{Z}&&\\\\\n",
    "    \\end{matrix}\\right . \n",
    "\\end{equation}"
   ]
  },
  {
   "cell_type": "code",
   "execution_count": 85,
   "metadata": {},
   "outputs": [
    {
     "data": {
      "text/plain": [
       "2-element Vector{Float64}:\n",
       " 3.0\n",
       " 0.3333333333333333"
      ]
     },
     "execution_count": 85,
     "metadata": {},
     "output_type": "execute_result"
    }
   ],
   "source": [
    "A = [\n",
    "    2 3;\n",
    "    1 0\n",
    "]\n",
    "\n",
    "b = [\n",
    "    7;\n",
    "    3\n",
    "]\n",
    "\n",
    "x = A\\b"
   ]
  },
  {
   "cell_type": "markdown",
   "metadata": {},
   "source": [
    "<img title=\"\" src=\"https://raw.githubusercontent.com/Daniel-C-Fernandes/PO-2-bimestre/main/PMI-9.png\" alt=\"transporte\" style=\"zoom:15%; align: center\">\n",
    "\n",
    "<hr>"
   ]
  },
  {
   "cell_type": "code",
   "execution_count": 86,
   "metadata": {},
   "outputs": [
    {
     "data": {
      "text/plain": [
       "136.66666666666666"
      ]
     },
     "execution_count": 86,
     "metadata": {},
     "output_type": "execute_result"
    }
   ],
   "source": [
    "40x[1] + 50x[2]"
   ]
  },
  {
   "cell_type": "markdown",
   "metadata": {},
   "source": [
    "<hr>"
   ]
  },
  {
   "cell_type": "code",
   "execution_count": 82,
   "metadata": {},
   "outputs": [
    {
     "name": "stdout",
     "output_type": "stream",
     "text": [
      "Max -40 x - 50 y\n",
      "Subject to\n",
      " restr[1] : -2 x - 3 y ≤ -7\n",
      " restr[2] : -3 x - 2 y ≤ -9\n",
      " restr[3] : -x ≤ -1\n",
      " x ≥ 0\n",
      " y ≥ 0\n",
      " x integer\n",
      "\n",
      "\n",
      "Running HiGHS 1.6.0: Copyright (c) 2023 HiGHS under MIT licence terms\n",
      "Presolving model\n",
      "2 rows, 2 cols, 4 nonzeros\n",
      "2 rows, 2 cols, 4 nonzeros\n",
      "\n",
      "Solving MIP model with:\n",
      "   2 rows\n",
      "   2 cols (0 binary, 1 integer, 0 implied int., 1 continuous)\n",
      "   4 nonzeros\n",
      "\n",
      "        Nodes      |    B&B Tree     |            Objective Bounds              |  Dynamic Constraints |       Work      \n",
      "     Proc. InQueue |  Leaves   Expl. | BestBound       BestSol              Gap |   Cuts   InLp Confl. | LpIters     Time\n",
      "\n",
      "         0       0         0   0.00%   -40             -inf                 inf        0      0      0         0     0.0s\n",
      " S       0       0         0   0.00%   -40             -150              73.33%        0      0      0         0     0.0s\n",
      " R       0       0         0   0.00%   -134            -136.6666667       1.95%        0      0      0         2     0.0s\n",
      "\n",
      "Solving report\n",
      "  Status            Optimal\n",
      "  Primal bound      -136.666666667\n",
      "  Dual bound        -136.666666667\n",
      "  Gap               0% (tolerance: 0.01%)\n",
      "  Solution status   feasible\n",
      "                    -136.666666667 (objective)\n",
      "                    0 (bound viol.)\n",
      "                    0 (int. viol.)\n",
      "                    0 (row viol.)\n",
      "  Timing            0.00 (total)\n",
      "                    0.00 (presolve)\n",
      "                    0.00 (postsolve)\n",
      "  Nodes             1\n",
      "  LP iterations     3 (total)\n",
      "                    0 (strong br.)\n",
      "                    1 (separation)\n",
      "                    0 (heuristics)\n",
      "\n",
      "\n",
      " Solução ótima: (3.0,0.33333333333333304)\n",
      "\n",
      " \n",
      " Valor da função objetivo para a solução ótima: z* = -136.66666666666666\n"
     ]
    },
    {
     "data": {
      "text/plain": [
       "A JuMP Model\n",
       "Feasibility problem with:\n",
       "Variables: 0\n",
       "Model mode: AUTOMATIC\n",
       "CachingOptimizer state: EMPTY_OPTIMIZER\n",
       "Solver name: HiGHS"
      ]
     },
     "execution_count": 82,
     "metadata": {},
     "output_type": "execute_result"
    }
   ],
   "source": [
    "# PIM:\n",
    "c = [\n",
    "    -40;\n",
    "    -50\n",
    "]\n",
    "\n",
    "A = [\n",
    "    -2 -3;\n",
    "    -3 -2;\n",
    "    -1 0;\n",
    "]\n",
    "\n",
    "b = [\n",
    "    -7;\n",
    "    -9;\n",
    "    -1;\n",
    "]\n",
    "\n",
    "model = Model(HiGHS.Optimizer)\n",
    "@variable(model, x >= 0, Int)\n",
    "@variable(model, y >= 0)\n",
    "\n",
    "@objective(model, Max, c'vec([x y]))\n",
    "@constraint(model, restr[j=1:size(A)[1]], A[j,:]'*vec([x y])<=b[j])\n",
    "println(model,\"\\n\")\n",
    "optimize!(model);\n",
    "print(\"\\n\\n Solução ótima: \")\n",
    "println(\"(\",value(x),\",\",value(y),\")\")\n",
    "println(\"\\n \\n Valor da função objetivo para a solução ótima: z* = \",objective_value(model))\n",
    "empty!(model)"
   ]
  },
  {
   "cell_type": "markdown",
   "metadata": {},
   "source": [
    "<hr>\n",
    "\n",
    "## 3. Problema da Mochila Binária\n",
    "\n",
    "<div style=\"justify\">\n",
    "O <b>Problema da Mochila Binária</b> (também conhecido como <b>Problema da Mochila 0-1</b>) é um problema clássico de otimização combinatória. Imagine que você tem uma mochila com capacidade limitada e vários itens disponíveis para colocar nela. Cada item tem um valor e um peso. O objetivo é escolher os itens de forma a maximizar o valor total dentro da capacidade da mochila, considerando que cada item pode ser escolhido no máximo uma vez.\n",
    "\n",
    "Formalmente, temos:\n",
    "- Um conjunto de $n$ itens, onde o item $i$ tem um valor $v_i$ e um peso $w_i$.\n",
    "- Uma capacidade máxima da mochila $W$.\n",
    "\n",
    "Queremos encontrar um vetor binário $x = (x_1, x_2, \\ldots, x_n)$, onde $x_i = 1$ se o item $i$ está na mochila e $x_i = 0$ caso contrário, de forma a maximizar a função objetivo:\n",
    "\n",
    "\\begin{equation}\n",
    "\\text{Máx } \\sum_{i=1}^{n} v_i x_i\n",
    "\\end{equation}\n",
    "\n",
    "sujeito a:\n",
    "\\begin{equation}\n",
    "    \\sum_{i=1}^{n} w_i x_i \\leq W\\\\\n",
    "\\end{equation}\n",
    "\n",
    "\\begin{equation}\n",
    "    x_i \\in \\{0, 1\\},\\;\\forall \\; i=1,2,\\dots,n    \n",
    "\\end{equation}\n",
    "\n",
    "<hr>\n",
    "\n",
    "Exemplo:\n",
    "\n",
    "Suponha que temos os seguintes itens:\n",
    "\n",
    "-Item 1: Valor $v_1 = 60$, Peso $w_1 = 10$\n",
    "\n",
    "-Item 2: Valor $v_2 = 100$, Peso $w_2 = 20$\n",
    "\n",
    "-Item 3: Valor $v_3 = 120$, Peso $w_3 = 30$\n",
    "\n",
    "\n",
    "E a capacidade da mochila é \\(W = 50\\).\n",
    "<hr>"
   ]
  },
  {
   "cell_type": "markdown",
   "metadata": {},
   "source": [
    "### Variáveis de decisão:\n",
    "\n",
    "- $x_1$: 1 se o item 1 está presente, 0 se o item 1 não está na mochila;\n",
    "  \n",
    "- $x_2$: 1 se o item 2 está presente, 0 se o item 2 não está na mochila;\n",
    "  \n",
    "- $x_3$: 1 se o item 3 está presente, 0 se o item 3 não está na mochila;"
   ]
  },
  {
   "cell_type": "markdown",
   "metadata": {},
   "source": [
    "### Função objetivo\n",
    "\n",
    "\\begin{equation}\n",
    "    \\text{Máx }f(x_1,x_2,x_3)=60x_1+100x_2+120x_3\n",
    "\\end{equation}"
   ]
  },
  {
   "cell_type": "markdown",
   "metadata": {},
   "source": [
    "### Restrições\n",
    "\n",
    "\\begin{equation}\n",
    "    \\text{s.a. }\\left \\{ 10x_1+20x_2+30x_3\\leq 50\\right .\n",
    "\\end{equation}"
   ]
  },
  {
   "cell_type": "code",
   "execution_count": 30,
   "metadata": {},
   "outputs": [
    {
     "name": "stdout",
     "output_type": "stream",
     "text": [
      "Max 60 x[1] + 100 x[2] + 120 x[3]\n",
      "Subject to\n",
      " restr[1] : 10 x[1] + 20 x[2] + 30 x[3] ≤ 50\n",
      " x[1] ≥ 0\n",
      " x[2] ≥ 0\n",
      " x[3] ≥ 0\n",
      " x[1] binary\n",
      " x[2] binary\n",
      " x[3] binary\n",
      "\n",
      "\n",
      "Running HiGHS 1.6.0: Copyright (c) 2023 HiGHS under MIT licence terms\n",
      "Presolving model\n",
      "1 rows, 3 cols, 3 nonzeros\n",
      "0 rows, 0 cols, 0 nonzeros\n",
      "Presolve: Optimal\n",
      "\n",
      "Solving report\n",
      "  Status            Optimal\n",
      "  Primal bound      220\n",
      "  Dual bound        220\n",
      "  Gap               0% (tolerance: 0.01%)\n",
      "  Solution status   feasible\n",
      "                    220 (objective)\n",
      "                    0 (bound viol.)\n",
      "                    0 (int. viol.)\n",
      "                    0 (row viol.)\n",
      "  Timing            0.00 (total)\n",
      "                    0.00 (presolve)\n",
      "                    0.00 (postsolve)\n",
      "  Nodes             0\n",
      "  LP iterations     0 (total)\n",
      "                    0 (strong br.)\n",
      "                    0 (separation)\n",
      "                    0 (heuristics)\n",
      "\n",
      "\n",
      " Solução ótima: [0.0, 1.0, 1.0]\n",
      "\n",
      " \n",
      " Valor da função objetivo para a solução ótima: z* = 220.0\n"
     ]
    },
    {
     "data": {
      "text/plain": [
       "A JuMP Model\n",
       "Feasibility problem with:\n",
       "Variables: 0\n",
       "Model mode: AUTOMATIC\n",
       "CachingOptimizer state: EMPTY_OPTIMIZER\n",
       "Solver name: HiGHS"
      ]
     },
     "execution_count": 30,
     "metadata": {},
     "output_type": "execute_result"
    }
   ],
   "source": [
    "c = [60; 100; 120]\n",
    "\n",
    "A = [10 20 30]\n",
    "\n",
    "b = [50]\n",
    "\n",
    "solve(c,A,b,\"Bin\")"
   ]
  },
  {
   "cell_type": "markdown",
   "metadata": {},
   "source": [
    "<hr>\n",
    "\n",
    "## 4. Problema da Mochila Inteira\n",
    "\n",
    "<div style=\"justify\">\n",
    "Dada uma mochila de capacidade 14 litros e um conjunto de 4 itens únicos com tamanhos w_i (em litros) e valores v_i (em reais) associados a cada item i, de acordo com a tabela a seguir, queremos determinar quais e quantos itens devem ser colocados na mochila de modo a maximizar o valor total transportado, respeitando sua capacidade.\n",
    "</div>\n",
    "\n",
    "\n",
    "|   | $x_1$ | $x_2$ | $x_3$ | $x_4$ |\n",
    "| ------------- | ------------- | ------------- | ------------- | ------------- |\n",
    "| $v_i$  | R$ 10,00  | R$ 20,00  | R$ 30,00  | R$ 40,00  |\n",
    "| $w_i$  |  4 | 3 | 5 | 5 |\n",
    "\n",
    "<hr>"
   ]
  },
  {
   "cell_type": "markdown",
   "metadata": {},
   "source": [
    "### Variáveis de decisão:\n",
    "\n",
    "- $x_1$: quantidade de itens 1 na mochila;\n",
    "  \n",
    "- $x_2$: quantidade de itens 2 na mochila;\n",
    "  \n",
    "- $x_3$: quantidade de itens 3 na mochila;\n",
    "  \n",
    "- $x_4$: quantidade de itens 4 na mochila;"
   ]
  },
  {
   "cell_type": "markdown",
   "metadata": {},
   "source": [
    "### Função objetivo\n",
    "\n",
    "\\begin{equation}\n",
    "    \\text{Máx }f(x_1,x_2,x_3,x_4) = 10x_1+20x_2+30x_3+40x_4\n",
    "\\end{equation}"
   ]
  },
  {
   "cell_type": "markdown",
   "metadata": {},
   "source": [
    "### Restrições\n",
    "\n",
    "\\begin{equation}\n",
    "    \\text{s.a. }4x_1+3x_2+5x_3+5x_4\\leq 14\n",
    "\\end{equation}"
   ]
  },
  {
   "cell_type": "code",
   "execution_count": 93,
   "metadata": {},
   "outputs": [
    {
     "name": "stdout",
     "output_type": "stream",
     "text": [
      "Max 10 x[1] + 20 x[2] + 30 x[3] + 40 x[4]\n",
      "Subject to\n",
      " restr[1] : 4 x[1] + 3 x[2] + 5 x[3] + 5 x[4] ≤ 14\n",
      " x[1] ≥ 0\n",
      " x[2] ≥ 0\n",
      " x[3] ≥ 0\n",
      " x[4] ≥ 0\n",
      " x[1] integer\n",
      " x[2] integer\n",
      " x[3] integer\n",
      " x[4] integer\n",
      "\n",
      "\n",
      "Running HiGHS 1.6.0: Copyright (c) 2023 HiGHS under MIT licence terms\n",
      "Presolving model\n",
      "1 rows, 4 cols, 4 nonzeros\n",
      "1 rows, 4 cols, 4 nonzeros\n",
      "Objective function is integral with scale 0.1\n",
      "\n",
      "Solving MIP model with:\n",
      "   1 rows\n",
      "   4 cols (0 binary, 4 integer, 0 implied int., 0 continuous)\n",
      "   4 nonzeros\n",
      "\n",
      "        Nodes      |    B&B Tree     |            Objective Bounds              |  Dynamic Constraints |       Work      \n",
      "     Proc. InQueue |  Leaves   Expl. | BestBound       BestSol              Gap |   Cuts   InLp Confl. | LpIters     Time\n",
      "\n",
      "         0       0         0   0.00%   250             -inf                 inf        0      0      0         0     0.0s\n",
      " S       0       0         0   0.00%   250             100              150.00%        0      0      0         0     0.0s\n",
      "\n",
      "Solving report\n",
      "  Status            Optimal\n",
      "  Primal bound      100\n",
      "  Dual bound        100\n",
      "  Gap               0% (tolerance: 0.01%)\n",
      "  Solution status   feasible\n",
      "                    100 (objective)\n",
      "                    0 (bound viol.)\n",
      "                    0 (int. viol.)\n",
      "                    0 (row viol.)\n",
      "  Timing            0.00 (total)\n",
      "                    0.00 (presolve)\n",
      "                    0.00 (postsolve)\n",
      "  Nodes             1\n",
      "  LP iterations     1 (total)\n",
      "                    0 (strong br.)\n",
      "                    0 (separation)\n",
      "                    0 (heuristics)\n",
      "\n",
      "\n",
      " Solução ótima: [0.0, 1.0, 0.0, 2.0]\n",
      "\n",
      " \n",
      " Valor da função objetivo para a solução ótima: z* = 100.0\n"
     ]
    },
    {
     "data": {
      "text/plain": [
       "A JuMP Model\n",
       "Feasibility problem with:\n",
       "Variables: 0\n",
       "Model mode: AUTOMATIC\n",
       "CachingOptimizer state: EMPTY_OPTIMIZER\n",
       "Solver name: HiGHS"
      ]
     },
     "execution_count": 93,
     "metadata": {},
     "output_type": "execute_result"
    }
   ],
   "source": [
    "c = [10; 20; 30; 40]\n",
    "\n",
    "A = [4 3 5 5]\n",
    "\n",
    "b = [14]\n",
    "\n",
    "solve(c,A,b,\"Int\")"
   ]
  },
  {
   "cell_type": "markdown",
   "metadata": {},
   "source": [
    "<hr>\n",
    "\n",
    "## 5. Problema de Transporte\n",
    "\n",
    "### Modelagem:\n",
    "<div style=\"justify\">\n",
    "\n",
    "O **Problema de Otimização de Transporte** é um problema clássico de programação linear que envolve o transporte eficiente de mercadorias de várias fontes para vários destinos. Imagine que você é responsável por distribuir produtos de várias fábricas para diferentes lojas ou centros de distribuição. Cada fábrica tem uma capacidade de produção e cada destino tem uma demanda a ser atendida.\n",
    "\n",
    "Formalmente, temos:\n",
    "- $m$ fábricas (fontes) com capacidades de produção $(s_1, s_2, \\ldots, s_m)$.\n",
    "\n",
    "- $n$ destinos ou centros consumidores (lojas) com demandas $(b_1, b_2, \\ldots, b_n)$.\n",
    "\n",
    "- Custo de transporte $(c_{ij})$ da fábrica $i$ para o destino $j$.\n",
    "\n",
    "\n",
    "\n",
    "<img title=\"\" src=\"https://raw.githubusercontent.com/Daniel-C-Fernandes/PO-2-bimestre/main/transporte.png\" alt=\"transporte\" style=\"zoom:25%; align: center\">\n",
    "\n",
    "Componentes do modelo:\n",
    "\n",
    "- $s_i$: as quantidades disponíveis, ou ofertadas, em cada origem $i$;\n",
    "\n",
    "- $b_j$: as quantidades requeridas (demandadas), em cada destino $j$;\n",
    "\n",
    "- $c_{ij}$ : o custo unitário de transporte da origem $i$ ao destino $j$;\n",
    "\n",
    "- $x_{ij}$ : a quantidade a ser transportada da origem $i$ ao destino $j$;\n",
    "\n",
    "O que é transportado a partir de cada origem $i$ para todos os destinos não pode ultrapassar a quantidade disponível do produto na mesma:\n",
    "\n",
    "\\begin{equation}\n",
    "    \\sum_{j=1}^n x_{ij}\\leq s_i\n",
    "\\end{equation}\n",
    "\n",
    "Da mesma forma, espera-se que as demandas de cada destino sejam satisfeitas:\n",
    "\n",
    "\\begin{equation}\n",
    "    \\sum_{i=1}^m x_{ij} \\geq b_j\n",
    "\\end{equation}\n",
    "\n",
    "\n",
    "Se necessitarmos restringir à demanda exata, utilizamos a seguinte igualdade em vez da desigualdade acima:\n",
    "\n",
    "\\begin{equation}\n",
    "    \\sum_{i=1}^m x_{ij} = b_j\n",
    "\\end{equation}\n",
    "\n",
    "O objetivo é determinar a quantidade a ser transportada de cada fábrica para cada destino de forma a minimizar o custo total de transporte, respeitando as capacidades de produção e as demandas:\n",
    "\n",
    "\\begin{equation}\n",
    "\\text{Minimize} \\quad f(x_{11},x_{12},...,x_{mn}) = \\sum_{i=1}^{m} \\sum_{j=1}^{n} c_{ij}x_{ij} \\text{  (Custo total)}\n",
    "\\end{equation}\n",
    "\n",
    "Sujeito a:\n",
    "\\begin{equation}\n",
    "\\left \\{ \\begin{matrix} \n",
    "    \\sum_{j=1}^{n} x_{ij} \\leq s_i \\quad i=1,\\dots,m\\\\\n",
    "    \\sum_{i=1}^{m} x_{ij} \\geq b_j \\quad j=1,\\dots,n\\\\\n",
    "    x_{ij} \\geq 0 \\quad i=1,\\dots,m;\\;j=1,\\dots,n\\\\\n",
    "\\end{matrix}\\right .\n",
    "\\end{equation}\n",
    "\n",
    "</div>\n",
    "\n",
    "<hr>"
   ]
  },
  {
   "cell_type": "markdown",
   "metadata": {},
   "source": [
    "### Exemplo:\n",
    "\n",
    "<div style=\"justify\">\n",
    "Suponha que temos 3 fábricas e 4 destinos, com as seguintes capacidades de produção e demandas:\n",
    "<br>\n",
    "\n",
    "<br>\n",
    "\n",
    "|  | Fábrica 1 | Fábrica 2 | Fábrica 3 |\n",
    "| ------------- | ------------- | ------------- | ------------- |\n",
    "| Capacidade | 20 | 30 | 25 |\n",
    "\n",
    "\n",
    "<br>\n",
    "\n",
    "|  | Destino 1 | Destino 2 | Destino 3 | Destino 4 |\n",
    "| ------------- | ------------- | ------------- | ------------- | ------------- |\n",
    "| Demanda | 15 | 25 | 20 | 10 |\n",
    "\n",
    "Os custos de transporte são dados pela matriz:\n",
    "\n",
    "<br>\n",
    "\n",
    "|  | Destino 1 | Destino 2 | Destino 3 | Destino 4 |\n",
    "| ------------- | ------------- | ------------- | ------------- | ------------- |\n",
    "| Fábrica 1 | 5 | 8 | 6 | 10 |\n",
    "| Fábrica 2 | 7 | 12 | 9 | 11 |\n",
    "| Fábrica 3 | 9 | 10 | 7 | 6 |"
   ]
  },
  {
   "cell_type": "markdown",
   "metadata": {},
   "source": [
    "### Modelo:\n",
    "\n",
    "### Dados:\n",
    "\n",
    "- $s_i$: as quantidades disponíveis em cada origem $i$;\n",
    "\n",
    "- $b_j$: as quantidades demandadas em cada destino $j$;\n",
    "\n",
    "- $c_{ij}$: o custo unitário de transporte da origem $i$ ao destino $j$;\n",
    "\n",
    "### Variáveis de Decisão:\n",
    "\n",
    "- $x_{ij}$: a quantidade a ser transportada da origem $i$ ao destino $j$;"
   ]
  },
  {
   "cell_type": "markdown",
   "metadata": {},
   "source": [
    "### Função objetivo:\n",
    "\n",
    "Minimizar\n",
    "\\begin{equation} \n",
    "    \\begin{matrix} \n",
    "        z = & 5x_{11} & +8x_{12} &+6x_{13} &+10x_{14}&+\\\\\n",
    "        & 7x_{21} &+12x_{22} &+9x_{23} &+11x_{24}&+\\\\\n",
    "        & 9x_{31} &+10x_{32} &+7x_{33} &+6x_{34}&\\\\\n",
    "    \\end{matrix}\n",
    "\\end{equation}"
   ]
  },
  {
   "cell_type": "markdown",
   "metadata": {},
   "source": [
    "### Restrições:\n",
    "\n",
    "\\begin{equation}\n",
    "    \\text{s.a.}\\left \\{\n",
    "        \\begin{matrix}\n",
    "            \\text{ Limitação da oferta:} &&\\\\\n",
    "            x_{11}+x_{12}+x_{13}+x_{14} & \\leq & 20\\\\\n",
    "            x_{21}+x_{22}+x_{23}+x_{24} & \\leq & 30\\\\\n",
    "            x_{31}+x_{32}+x_{33}+x_{34} & \\leq & 25\\\\\n",
    "            \\text{ As demandas devem ser satisfeitas:}&&\\\\\n",
    "            x_{11}+x_{21}+x_{31} &\\geq& 15\\\\\n",
    "            x_{12}+x_{22}+x_{32} &\\geq& 25\\\\\n",
    "            x_{13}+x_{23}+x_{33} &\\geq& 20\\\\\n",
    "            x_{14}+x_{24}+x_{34} &\\geq& 10\\\\\n",
    "            \\text{ Condição de não negatividade:}&&\\\\\n",
    "            x_{ij}\\geq 0,\\;i=1,2,3;\\;j=1,2,3,4\\\\\n",
    "        \\end{matrix}\n",
    "        \\right .\n",
    "\\end{equation}"
   ]
  },
  {
   "cell_type": "code",
   "execution_count": 32,
   "metadata": {},
   "outputs": [
    {
     "data": {
      "text/plain": [
       "7×12 Matrix{Int64}:\n",
       "  1   1   1   1   0   0   0   0   0   0   0   0\n",
       "  0   0   0   0   1   1   1   1   0   0   0   0\n",
       "  0   0   0   0   0   0   0   0   1   1   1   1\n",
       " -1   0   0   0  -1   0   0   0  -1   0   0   0\n",
       "  0  -1   0   0   0  -1   0   0   0  -1   0   0\n",
       "  0   0  -1   0   0   0  -1   0   0   0  -1   0\n",
       "  0   0   0  -1   0   0   0  -1   0   0   0  -1"
      ]
     },
     "execution_count": 32,
     "metadata": {},
     "output_type": "execute_result"
    }
   ],
   "source": [
    "c = [5;8;6;10;7;12;9;11;9;10;7;6]\n",
    "\n",
    "b = [20;30;25;-15;-25;-20;-10]\n",
    "\n",
    "# x_11 = x_1; x_12 = x_2; ... ; x_34 = x_12\n",
    "A = [ \n",
    "        1 1 1 1 0 0 0 0 0 0 0 0;\n",
    "        0 0 0 0 1 1 1 1 0 0 0 0;\n",
    "        0 0 0 0 0 0 0 0 1 1 1 1;\n",
    "        -1 0 0 0 -1 0 0 0 -1 0 0 0;\n",
    "        0 -1 0 0 0 -1 0 0 0 -1 0 0;\n",
    "        0 0 -1 0 0 0 -1 0 0 0 -1 0;\n",
    "        0 0 0 -1 0 0 0 -1 0 0 0 -1;\n",
    "]"
   ]
  },
  {
   "cell_type": "code",
   "execution_count": 33,
   "metadata": {},
   "outputs": [
    {
     "name": "stdout",
     "output_type": "stream",
     "text": [
      "Max 5 x[1] + 8 x[2] + 6 x[3] + 10 x[4] + 7 x[5] + 12 x[6] + 9 x[7] + 11 x[8] + 9 x[9] + 10 x[10] + 7 x[11] + 6 x[12]\n",
      "Subject to\n",
      " restr[1] : x[1] + x[2] + x[3] + x[4] ≤ 20\n",
      " restr[2] : x[5] + x[6] + x[7] + x[8] ≤ 30\n",
      " restr[3] : x[9] + x[10] + x[11] + x[12] ≤ 25\n",
      " restr[4] : -x[1] - x[5] - x[9] ≤ -15\n",
      " restr[5] : -x[2] - x[6] - x[10] ≤ -25\n",
      " restr[6] : -x[3] - x[7] - x[11] ≤ -20\n",
      " restr[7] : -x[4] - x[8] - x[12] ≤ -10\n",
      " x[1] ≥ 0\n",
      " x[2] ≥ 0\n",
      " x[3] ≥ 0\n",
      " x[4] ≥ 0\n",
      " x[5] ≥ 0\n",
      " x[6] ≥ 0\n",
      " x[7] ≥ 0\n",
      " x[8] ≥ 0\n",
      " x[9] ≥ 0\n",
      " x[10] ≥ 0\n",
      " x[11] ≥ 0\n",
      " x[12] ≥ 0\n",
      " x[1] integer\n",
      " x[2] integer\n",
      " x[3] integer\n",
      " x[4] integer\n",
      " x[5] integer\n",
      " x[6] integer\n",
      " x[7] integer\n",
      " x[8] integer\n",
      " x[9] integer\n",
      " x[10] integer\n",
      " x[11] integer\n",
      " x[12] integer\n",
      "\n",
      "\n",
      "Running HiGHS 1.6.0: Copyright (c) 2023 HiGHS under MIT licence terms\n",
      "Presolving model\n",
      "7 rows, 12 cols, 24 nonzeros\n",
      "7 rows, 12 cols, 24 nonzeros\n",
      "Objective function is integral with scale 1\n",
      "\n",
      "Solving MIP model with:\n",
      "   7 rows\n",
      "   12 cols (0 binary, 12 integer, 0 implied int., 0 continuous)\n",
      "   24 nonzeros\n",
      "\n",
      "        Nodes      |    B&B Tree     |            Objective Bounds              |  Dynamic Constraints |       Work      \n",
      "     Proc. InQueue |  Leaves   Expl. | BestBound       BestSol              Gap |   Cuts   InLp Confl. | LpIters     Time\n",
      "\n",
      "         0       0         0   0.00%   2550            -inf                 inf        0      0      0         0     0.0s\n",
      " T       0       0         0   0.00%   2550            730              249.32%        0      0      0         8     0.0s\n",
      "\n",
      "Solving report\n",
      "  Status            Optimal\n",
      "  Primal bound      730\n",
      "  Dual bound        730\n",
      "  Gap               0% (tolerance: 0.01%)\n",
      "  Solution status   feasible\n",
      "                    730 (objective)\n",
      "                    0 (bound viol.)\n",
      "                    0 (int. viol.)\n",
      "                    0 (row viol.)\n",
      "  Timing            0.00 (total)\n",
      "                    0.00 (presolve)\n",
      "                    0.00 (postsolve)\n",
      "  Nodes             1\n",
      "  LP iterations     8 (total)\n",
      "                    0 (strong br.)\n",
      "                    0 (separation)\n",
      "                    0 (heuristics)\n",
      "\n",
      "\n",
      " Solução ótima: [0.0, 0.0, 5.0, 15.0, 0.0, 15.0, 15.0, 0.0, 15.0, 10.0, 0.0, 0.0]\n",
      "\n",
      " \n",
      " Valor da função objetivo para a solução ótima: z* = 730.0\n"
     ]
    },
    {
     "data": {
      "text/plain": [
       "A JuMP Model\n",
       "Feasibility problem with:\n",
       "Variables: 0\n",
       "Model mode: AUTOMATIC\n",
       "CachingOptimizer state: EMPTY_OPTIMIZER\n",
       "Solver name: HiGHS"
      ]
     },
     "execution_count": 33,
     "metadata": {},
     "output_type": "execute_result"
    }
   ],
   "source": [
    "solve(c,A,b,\"Int\")"
   ]
  },
  {
   "cell_type": "markdown",
   "metadata": {},
   "source": [
    "<hr>\n",
    "\n",
    "### Exemplo 2:\n",
    "\n",
    "Uma empresa fabrica um determinado produto em três cidades P1, P2 e P3; o produto destina-se a quatro centros de consumo C1 , C2, C3 e C4. O custo estimado de transportar o produto das fábricas para os centros consumidores, assim como a demanda de cada centro e a oferta de cada fábrica é dado na tabela a seguir:\n",
    "\n",
    "| Origem | Destino C1 | Destino C2 | Destino C3 | Destino C4 | Oferta |\n",
    "| ------------- | ------------- | ------------- | ------------- | ------------- | ------------- |\n",
    "| P1 | 10 | 7 | 6 | 5 | 9 |\n",
    "| P2 | 2 | 8 | 9 | 1 | 10 |\n",
    "| P3 | 11 | 12 | 8 | 4 | 8 |\n",
    "| Demanda | 7 | 6 | 10 | 4 |\n",
    "\n",
    "Formule o modelo de transporte para se determinar o programa que torna mínimo o custo total de transporte entre as quatro cidades e os três centros consumidores.\n",
    "\n",
    "<img title=\"\" src=\"https://raw.githubusercontent.com/Daniel-C-Fernandes/PO-2-bimestre/main/ex2.1n.png\" alt=\"\" style=\"zoom:25%; align: center\"><br/><br>\n",
    "\n",
    "<img title=\"\" src=\"https://raw.githubusercontent.com/Daniel-C-Fernandes/PO-2-bimestre/main/ex2.2n.png\" alt=\"\" style=\"zoom:25%; align: center\"><br/><br>\n",
    "\n",
    "<img title=\"\" src=\"https://raw.githubusercontent.com/Daniel-C-Fernandes/PO-2-bimestre/main/ex2.3n.png\" alt=\"\" style=\"zoom:25%; align: center\">"
   ]
  },
  {
   "cell_type": "markdown",
   "metadata": {},
   "source": [
    "### Função objetivo:\n",
    "\n",
    "Minimizar\n",
    "\\begin{equation} \n",
    "    \\begin{matrix} \n",
    "        z = & 10x_{11} & +7x_{12} &+6x_{13} &+5x_{14}&+\\\\\n",
    "        & 2x_{21} &+8x_{22} &+9x_{23} &+x_{24}&+\\\\\n",
    "        & 11x_{31} &+12x_{32} &+8x_{33} &+4x_{34}&\\\\\n",
    "    \\end{matrix}\n",
    "\\end{equation}"
   ]
  },
  {
   "cell_type": "markdown",
   "metadata": {},
   "source": [
    "### Restrições:\n",
    "\n",
    "\\begin{equation}\n",
    "    \\text{s.a.}\\left \\{\n",
    "        \\begin{matrix}\n",
    "            \\text{ Limitação da oferta:} &&\\\\\n",
    "            x_{11}+x_{12}+x_{13}+x_{14} & \\leq & 9\\\\\n",
    "            x_{21}+x_{22}+x_{23}+x_{24} & \\leq & 10\\\\\n",
    "            x_{31}+x_{32}+x_{33}+x_{34} & \\leq & 8\\\\\n",
    "            \\text{ As demandas devem ser satisfeitas:}&&\\\\\n",
    "            x_{11}+x_{21}+x_{31} &\\geq& 7\\\\\n",
    "            x_{12}+x_{22}+x_{32} &\\geq& 6\\\\\n",
    "            x_{13}+x_{23}+x_{33} &\\geq& 10\\\\\n",
    "            x_{14}+x_{24}+x_{34} &\\geq& 4\\\\\n",
    "            \\text{ Condição de não negatividade:}&&\\\\\n",
    "            x_{ij}\\geq 0,\\;i=1,2,3;\\;j=1,2,3,4\\\\\n",
    "        \\end{matrix}\n",
    "        \\right .\n",
    "\\end{equation}"
   ]
  },
  {
   "cell_type": "code",
   "execution_count": 34,
   "metadata": {},
   "outputs": [
    {
     "data": {
      "text/plain": [
       "7×12 Matrix{Int64}:\n",
       "  1   1   1   1   0   0   0   0   0   0   0   0\n",
       "  0   0   0   0   1   1   1   1   0   0   0   0\n",
       "  0   0   0   0   0   0   0   0   1   1   1   1\n",
       " -1   0   0   0  -1   0   0   0  -1   0   0   0\n",
       "  0  -1   0   0   0  -1   0   0   0  -1   0   0\n",
       "  0   0  -1   0   0   0  -1   0   0   0  -1   0\n",
       "  0   0   0  -1   0   0   0  -1   0   0   0  -1"
      ]
     },
     "execution_count": 34,
     "metadata": {},
     "output_type": "execute_result"
    }
   ],
   "source": [
    "c = [10;7;6;5;2;8;9;1;11;12;8;4]\n",
    "\n",
    "b = [9;10;8;-7;-6;-10;-4]\n",
    "\n",
    "# x_11 = x_1; x_12 = x_2; ... ; x_34 = x_12\n",
    "A = [ \n",
    "        1 1 1 1 0 0 0 0 0 0 0 0;\n",
    "        0 0 0 0 1 1 1 1 0 0 0 0;\n",
    "        0 0 0 0 0 0 0 0 1 1 1 1;\n",
    "        -1 0 0 0 -1 0 0 0 -1 0 0 0;\n",
    "        0 -1 0 0 0 -1 0 0 0 -1 0 0;\n",
    "        0 0 -1 0 0 0 -1 0 0 0 -1 0;\n",
    "        0 0 0 -1 0 0 0 -1 0 0 0 -1;\n",
    "]"
   ]
  },
  {
   "cell_type": "code",
   "execution_count": 35,
   "metadata": {},
   "outputs": [
    {
     "name": "stdout",
     "output_type": "stream",
     "text": [
      "Max 10 x[1] + 7 x[2] + 6 x[3] + 5 x[4] + 2 x[5] + 8 x[6] + 9 x[7] + x[8] + 11 x[9] + 12 x[10] + 8 x[11] + 4 x[12]\n",
      "Subject to\n",
      " restr[1] : x[1] + x[2] + x[3] + x[4] ≤ 9\n",
      " restr[2] : x[5] + x[6] + x[7] + x[8] ≤ 10\n",
      " restr[3] : x[9] + x[10] + x[11] + x[12] ≤ 8\n",
      " restr[4] : -x[1] - x[5] - x[9] ≤ -7\n",
      " restr[5] : -x[2] - x[6] - x[10] ≤ -6\n",
      " restr[6] : -x[3] - x[7] - x[11] ≤ -10\n",
      " restr[7] : -x[4] - x[8] - x[12] ≤ -4\n",
      " x[1] ≥ 0\n",
      " x[2] ≥ 0\n",
      " x[3] ≥ 0\n",
      " x[4] ≥ 0\n",
      " x[5] ≥ 0\n",
      " x[6] ≥ 0\n",
      " x[7] ≥ 0\n",
      " x[8] ≥ 0\n",
      " x[9] ≥ 0\n",
      " x[10] ≥ 0\n",
      " x[11] ≥ 0\n",
      " x[12] ≥ 0\n",
      " x[1] integer\n",
      " x[2] integer\n",
      " x[3] integer\n",
      " x[4] integer\n",
      " x[5] integer\n",
      " x[6] integer\n",
      " x[7] integer\n",
      " x[8] integer\n",
      " x[9] integer\n",
      " x[10] integer\n",
      " x[11] integer\n",
      " x[12] integer\n",
      "\n",
      "\n",
      "Running HiGHS 1.6.0: Copyright (c) 2023 HiGHS under MIT licence terms\n",
      "Presolving model\n",
      "7 rows, 12 cols, 24 nonzeros\n",
      "7 rows, 12 cols, 24 nonzeros\n",
      "Objective function is integral with scale 1\n",
      "\n",
      "Solving MIP model with:\n",
      "   7 rows\n",
      "   12 cols (0 binary, 12 integer, 0 implied int., 0 continuous)\n",
      "   24 nonzeros\n",
      "\n",
      "        Nodes      |    B&B Tree     |            Objective Bounds              |  Dynamic Constraints |       Work      \n",
      "     Proc. InQueue |  Leaves   Expl. | BestBound       BestSol              Gap |   Cuts   InLp Confl. | LpIters     Time\n",
      "\n",
      "         0       0         0   0.00%   732             -inf                 inf        0      0      0         0     0.0s\n",
      " T       0       0         0   0.00%   732             254              188.19%        0      0      0         6     0.0s\n",
      "\n",
      "Solving report\n",
      "  Status            Optimal\n",
      "  Primal bound      254\n",
      "  Dual bound        254\n",
      "  Gap               0% (tolerance: 0.01%)\n",
      "  Solution status   feasible\n",
      "                    254 (objective)\n",
      "                    0 (bound viol.)\n",
      "                    0 (int. viol.)\n",
      "                    0 (row viol.)\n",
      "  Timing            0.00 (total)\n",
      "                    0.00 (presolve)\n",
      "                    0.00 (postsolve)\n",
      "  Nodes             1\n",
      "  LP iterations     6 (total)\n",
      "                    0 (strong br.)\n",
      "                    0 (separation)\n",
      "                    0 (heuristics)\n",
      "\n",
      "\n",
      " Solução ótima: [5.0, 0.0, 0.0, 4.0, 0.0, -0.0, 10.0, 0.0, 2.0, 6.0, 0.0, 0.0]\n",
      "\n",
      " \n",
      " Valor da função objetivo para a solução ótima: z* = 254.0\n"
     ]
    },
    {
     "data": {
      "text/plain": [
       "A JuMP Model\n",
       "Feasibility problem with:\n",
       "Variables: 0\n",
       "Model mode: AUTOMATIC\n",
       "CachingOptimizer state: EMPTY_OPTIMIZER\n",
       "Solver name: HiGHS"
      ]
     },
     "execution_count": 35,
     "metadata": {},
     "output_type": "execute_result"
    }
   ],
   "source": [
    "solve(c,A,b,\"Int\")"
   ]
  },
  {
   "cell_type": "markdown",
   "metadata": {},
   "source": [
    "<hr>\n",
    "\n",
    "## 6. Problema de Transporte com transbordo\n",
    "\n",
    "<div style=\"justify\">\n",
    "\n",
    "</div>"
   ]
  },
  {
   "cell_type": "markdown",
   "metadata": {},
   "source": [
    "<hr>\n",
    "\n",
    "## 7. Problema de Designação\n",
    "\n",
    "<div style=\"justify\">\n",
    "O **Problema de Otimização de Designação** (ou **Problema de Atribuição**) é um problema que envolve a alocação de recursos (como pessoas, tarefas, máquinas) para tarefas específicas de forma a otimizar algum critério, como minimizar custos ou maximizar benefícios.\n",
    "    \n",
    "Dado um conjunto de $n$ recursos e um conjunto de $m$ tarefas, queremos encontrar uma designação que minimize ou maximize uma função objetivo, sujeita a restrições. \n",
    "\n",
    "A designação é representada por uma matriz $X = [x_{ij}]$, onde:\n",
    "\n",
    "- $x_{ij}$ é 1 se o recurso $i$ está designado para a tarefa $j$, e 0 caso contrário.\n",
    "\n",
    "A matriz $X$ deve satisfazer as seguintes condições:\n",
    "\n",
    "Cada recurso é designado para no máximo uma tarefa: \n",
    "\\begin{equation}\n",
    "    \\sum_{j=1}^{m} x_{ij} \\leq 1,\\;\\;i=1,\\dots,n.\n",
    "\\end{equation}\n",
    "\n",
    "Cada tarefa é atribuída a exatamente um recurso: \n",
    "\n",
    "\\begin{equation}\n",
    "    \\sum_{i=1}^{n} x_{ij} = 1,\\;\\;j=1,\\dots,m.\n",
    "\\end{equation}\n",
    "\n",
    "Formalmente, temos:\n",
    "- Um conjunto de $n$ recursos e um conjunto de $m$ tarefas.\n",
    "- Uma função objetivo que representa o benefício ou custo associado a cada alocação.\n",
    "- Restrições que limitam a quantidade de recursos disponíveis para cada tarefa.\n",
    "\n",
    "O desafio é encontrar a alocação ótima que maximize ou minimize a função objetivo, respeitando as restrições.\n",
    "\n",
    "Exemplos de problemas de alocação incluem:\n",
    "- Alocação de funcionários a projetos.\n",
    "- Alocação de salas de aula a disciplinas.\n",
    "- Alocação de veículos a rotas de entrega.\n",
    "\n",
    "</div>"
   ]
  },
  {
   "cell_type": "markdown",
   "metadata": {},
   "source": [
    "<hr>\n",
    "\n",
    "### Exemplo\n",
    "    Suponha que temos 3 funcionários e 4 projetos, com as seguintes capacidades de trabalho e demandas:\n",
    "\n",
    "    \\begin{table}\n",
    "        \\centering\n",
    "        \\begin{tabular}{lccc}\n",
    "            \\hline\n",
    "            & Funcionário 1 & Funcionário 2 & Funcionário 3 \\\\\n",
    "            \\hline\n",
    "            Capacidade & 20 horas & 30 horas & 25 horas \\\\\n",
    "            \\hline\n",
    "        \\end{tabular}\n",
    "    \\end{table}\n",
    "\n",
    "    \\begin{table}\n",
    "        \\centering\n",
    "        \\begin{tabular}{lcccc}\n",
    "            \\hline\n",
    "            & Projeto 1 & Projeto 2 & Projeto 3 & Projeto 4 \\\\\n",
    "            \\hline\n",
    "            Demanda & 15 horas & 25 horas & 20 horas & 10 horas \\\\\n",
    "            \\hline\n",
    "        \\end{tabular}\n",
    "    \\end{table}\n",
    "\n",
    "    Os custos associados à alocação de cada funcionário a cada projeto são dados pela matriz:\n",
    "\n",
    "    \\begin{table}\n",
    "        \\centering\n",
    "        \\begin{tabular}{lcccc}\n",
    "            \\hline\n",
    "            & Projeto 1 & Projeto 2 & Projeto 3 & Projeto 4 \\\\\n",
    "            \\hline\n",
    "            Funcionário 1 & 5 & 8 & 6 & 10 \\\\\n",
    "            Funcionário 2 & 7 & 12 & 9 & 11 \\\\\n",
    "            Funcionário 3 & 9 & 10 & 7 & 6 \\\\\n",
    "            \\hline\n",
    "        \\end{tabular}\n",
    "    \\end{table}\n",
    "\n",
    "    A solução ótima é alocar 15 horas do Funcionário 1 ao Projeto 1, 5 horas do Funcionário 1 ao Projeto 2, 10 horas do Funcionário 2 ao Projeto 3 e 10 horas do Funcionário 3 ao Projeto 4, resultando no menor custo total de alocação."
   ]
  }
 ],
 "metadata": {
  "kernelspec": {
   "display_name": "Julia 1.9.3",
   "language": "julia",
   "name": "julia-1.9"
  },
  "language_info": {
   "file_extension": ".jl",
   "mimetype": "application/julia",
   "name": "julia",
   "version": "1.9.3"
  }
 },
 "nbformat": 4,
 "nbformat_minor": 2
}
