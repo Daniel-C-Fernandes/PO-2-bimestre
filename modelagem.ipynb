{
 "cells": [
  {
   "cell_type": "markdown",
   "metadata": {},
   "source": [
    "# Modelagem de Problemas - Pesquisa Operacional\n",
    "\n",
    "## 1. Problema - Mix de Produção / Mistura\n",
    "\n",
    "<hr>\n",
    "<div style=\"justify\">\n",
    "<u>Ex.1: Produção de lingotes metal:</u>\n",
    "\n",
    "\n",
    "Uma empresa fabrica dois produtos, lingotes de aço e lingotes de ferro. \n",
    "\n",
    "Na fabricação dos lingotes de aço a empresa gasta nove horas-homem e três horas-máquina por metro linear, onde a tecnologia utilizada é intensiva em mão-de-obra. \n",
    "\n",
    "Na fabricação dos lingotes de ferro a empresa gasta uma hora-homem e uma hora-máquina por metro linear, onde a tecnologia é intensiva em capital. \n",
    "\n",
    "As instalações da empresa permitem a fabricação de apenas um tipo de lingote por vez.\n",
    "\n",
    "Sejam $x_1$ e $x_2$ as quantidades fabricadas dos lingotes de aço e ferro e que a empresa dispõe de 18 horas-homem e 12 horas-máquina, respectivamente.\n",
    "\n",
    "Sabendo-se que os lucros dos lingotes de aço e ferro são de RS 4.000,00 e RS 1.000,00 por unidade métrica, respectivamente, quanto essa empresa deve fabricar de cada produto para obter o maior lucro possível?\n",
    "</div>\n",
    "\n",
    "<hr>"
   ]
  },
  {
   "cell_type": "markdown",
   "metadata": {},
   "source": [
    "### Variáveis de Decisão:\n",
    "\n",
    "$x_1$: metro linear de lingote de aço\n",
    "\n",
    "$x_2$: metro linear de lingote de ferro"
   ]
  },
  {
   "cell_type": "markdown",
   "metadata": {},
   "source": [
    "### Função objetivo:\n",
    "\n",
    "\\begin{equation}\n",
    "    \\text{Máx }f(x_1,x_2)=4000x_1+1000x_2\n",
    "\\end{equation}\n"
   ]
  },
  {
   "cell_type": "markdown",
   "metadata": {},
   "source": [
    "### Restrições:\n",
    "\n",
    "\\begin{equation}\n",
    "    \\text{s.a.}\\left \\{ \\begin{matrix}\n",
    "    9x_1+x_2\\leq 18\\text{ ------> horas-homem}\\\\\n",
    "    3x_1+x_2\\leq 12\\text{ ------> horas-máquina}\\\\\n",
    "    x_1\\geq0,\\;x_2\\geq0\n",
    "    \\end{matrix}\\right .\n",
    "\\end{equation}"
   ]
  },
  {
   "cell_type": "code",
   "execution_count": 4,
   "metadata": {},
   "outputs": [],
   "source": [
    "using HiGHS, JuMP"
   ]
  },
  {
   "cell_type": "code",
   "execution_count": 1,
   "metadata": {},
   "outputs": [
    {
     "data": {
      "text/latex": [
       "$ 4000 x_{1} + 1000 x_{2} $"
      ],
      "text/plain": [
       "4000 x[1] + 1000 x[2]"
      ]
     },
     "execution_count": 1,
     "metadata": {},
     "output_type": "execute_result"
    }
   ],
   "source": [
    "model = Model(HiGHS.Optimizer)\n",
    "@variable(model, x[i=1:2] >= 0)\n",
    "\n",
    "c = [4000;1000]\n",
    "\n",
    "@objective(model, Max, c'x)"
   ]
  },
  {
   "cell_type": "code",
   "execution_count": 7,
   "metadata": {},
   "outputs": [
    {
     "data": {
      "text/plain": [
       "2-element Vector{ConstraintRef{Model, MathOptInterface.ConstraintIndex{MathOptInterface.ScalarAffineFunction{Float64}, MathOptInterface.LessThan{Float64}}, ScalarShape}}:\n",
       " restr[1] : 9 x[1] + x[2] ≤ 18\n",
       " restr[2] : 3 x[1] + x[2] ≤ 12"
      ]
     },
     "execution_count": 7,
     "metadata": {},
     "output_type": "execute_result"
    }
   ],
   "source": [
    "A = [9 1;\n",
    "    3 1\n",
    "]\n",
    "\n",
    "b=[18;12]\n",
    "\n",
    "@constraint(model, restr[j=1:2], A[j,:]'*x<=b[j])"
   ]
  },
  {
   "cell_type": "code",
   "execution_count": 8,
   "metadata": {},
   "outputs": [
    {
     "name": "stdout",
     "output_type": "stream",
     "text": [
      "Max 4000 x[1] + 1000 x[2]\n",
      "Subject to\n",
      " restr[1] : 9 x[1] + x[2] ≤ 18\n",
      " restr[2] : 3 x[1] + x[2] ≤ 12\n",
      " x[1] ≥ 0\n",
      " x[2] ≥ 0\n",
      "\n",
      "\n"
     ]
    }
   ],
   "source": [
    "println(model,\"\\n\")"
   ]
  },
  {
   "cell_type": "code",
   "execution_count": 9,
   "metadata": {},
   "outputs": [
    {
     "name": "stdout",
     "output_type": "stream",
     "text": [
      "Running HiGHS 1.6.0: Copyright (c) 2023 HiGHS under MIT licence terms\n",
      "Presolving model\n",
      "2 rows, 2 cols, 4 nonzeros\n",
      "2 rows, 2 cols, 4 nonzeros\n",
      "Presolve : Reductions: rows 2(-0); columns 2(-0); elements 4(-0) - Not reduced\n",
      "Problem not reduced by presolve: solving the LP\n",
      "Using EKK dual simplex solver - serial\n",
      "  Iteration        Objective     Infeasibilities num(sum)\n",
      "          0    -1.9999984617e+03 Ph1: 2(5); Du: 2(2000) 0s\n",
      "          2     1.3000000000e+04 Pr: 0(0) 0s\n",
      "Model   status      : Optimal\n",
      "Simplex   iterations: 2\n",
      "Objective value     :  1.3000000000e+04\n",
      "HiGHS run time      :          0.00\n"
     ]
    }
   ],
   "source": [
    "optimize!(model);"
   ]
  },
  {
   "cell_type": "code",
   "execution_count": 10,
   "metadata": {},
   "outputs": [
    {
     "name": "stdout",
     "output_type": "stream",
     "text": [
      "13000.0"
     ]
    }
   ],
   "source": [
    "print(objective_value(model))"
   ]
  },
  {
   "cell_type": "code",
   "execution_count": 12,
   "metadata": {},
   "outputs": [
    {
     "name": "stdout",
     "output_type": "stream",
     "text": [
      "[1.0, 9.0]\n"
     ]
    }
   ],
   "source": [
    "println(value.(x))"
   ]
  },
  {
   "cell_type": "code",
   "execution_count": 14,
   "metadata": {},
   "outputs": [
    {
     "data": {
      "text/plain": [
       "A JuMP Model\n",
       "Feasibility problem with:\n",
       "Variables: 0\n",
       "Model mode: AUTOMATIC\n",
       "CachingOptimizer state: EMPTY_OPTIMIZER\n",
       "Solver name: HiGHS"
      ]
     },
     "execution_count": 14,
     "metadata": {},
     "output_type": "execute_result"
    }
   ],
   "source": [
    "empty!(model)"
   ]
  },
  {
   "cell_type": "markdown",
   "metadata": {},
   "source": [
    "<hr>\n",
    "<div style=\"justify\">\n",
    "<u>Ex.2: Dieta:</u>\n",
    "\n",
    "\n",
    "Para uma boa alimentação o corpo necessita de vitaminas e proteínas. \n",
    "\n",
    "A necessidade mínima de vitaminas é de 32 unidades por dia e a de proteínas é de 36 unidades por dia. \n",
    "\n",
    "Uma pessoa tem disponível carne e ovos para se alimentar. \n",
    "\n",
    "Cada unidade de carne contém 2 unidades de vitaminas e 6 unidades de proteína. \n",
    "\n",
    "Cada unidade de ovo contém 6 unidades de vitaminas e 4 de proteínas. \n",
    "\n",
    "Qual a quantidade diária de carne e ovos que deve ser consumida para suprir as necessidades de vitaminas e proteínas com o menor custo possível? \n",
    "\n",
    "Cada unidade de carne custa RS 3,00 e cada unidade de ovo custa RS 1,50. \n",
    "\n",
    "Qual o menor custo possível?\n",
    "</div>\n",
    "<hr>"
   ]
  },
  {
   "cell_type": "markdown",
   "metadata": {},
   "source": [
    "### Variáveis de Decisão:\n",
    "\n",
    "$x_c$: unidades de carne;\n",
    "\n",
    "$x_o$: unidades de ovo;"
   ]
  },
  {
   "cell_type": "markdown",
   "metadata": {},
   "source": [
    "### Função objetivo\n",
    "\n",
    "\\begin{equation}\n",
    "    \\text{Min }f(x_c, x_o)=3x_c+1,5x_o\n",
    "\\end{equation}"
   ]
  },
  {
   "cell_type": "markdown",
   "metadata": {},
   "source": [
    "### Restrições:\n",
    "\n",
    "\\begin{equation}\n",
    "    \\text{s.a.}\\left \\{ \\begin{matrix}\n",
    "        2x_c + 6x_o \\geq 32\\text{ ------> Vitaminas}\\\\\n",
    "        6x_c + 4x_o \\geq 36\\text{ ------> Proteínas}\\\\\n",
    "    x_c\\geq0,\\;x_o\\geq0\n",
    "    \\end{matrix}\\right .\n",
    "\\end{equation}"
   ]
  },
  {
   "cell_type": "code",
   "execution_count": 23,
   "metadata": {},
   "outputs": [
    {
     "data": {
      "text/latex": [
       "$ 3 x_{1} + 1.5 x_{2} $"
      ],
      "text/plain": [
       "3 x[1] + 1.5 x[2]"
      ]
     },
     "execution_count": 23,
     "metadata": {},
     "output_type": "execute_result"
    }
   ],
   "source": [
    "model = Model(HiGHS.Optimizer)\n",
    "@variable(model, x[i=1:2] >= 0)\n",
    "\n",
    "c = [3;1.5]\n",
    "\n",
    "@objective(model, Min, c'x)"
   ]
  },
  {
   "cell_type": "code",
   "execution_count": 24,
   "metadata": {},
   "outputs": [
    {
     "data": {
      "text/plain": [
       "2-element Vector{ConstraintRef{Model, MathOptInterface.ConstraintIndex{MathOptInterface.ScalarAffineFunction{Float64}, MathOptInterface.GreaterThan{Float64}}, ScalarShape}}:\n",
       " restr[1] : 2 x[1] + 6 x[2] ≥ 32\n",
       " restr[2] : 6 x[1] + 4 x[2] ≥ 36"
      ]
     },
     "execution_count": 24,
     "metadata": {},
     "output_type": "execute_result"
    }
   ],
   "source": [
    "A = [2 6;\n",
    "    6 4\n",
    "]\n",
    "\n",
    "b=[32;36]\n",
    "\n",
    "@constraint(model, restr[j=1:2], A[j,:]'*x>=b[j])"
   ]
  },
  {
   "cell_type": "code",
   "execution_count": 25,
   "metadata": {},
   "outputs": [
    {
     "name": "stdout",
     "output_type": "stream",
     "text": [
      "Min 3 x[1] + 1.5 x[2]\n",
      "Subject to\n",
      " restr[1] : 2 x[1] + 6 x[2] ≥ 32\n",
      " restr[2] : 6 x[1] + 4 x[2] ≥ 36\n",
      " x[1] ≥ 0\n",
      " x[2] ≥ 0\n",
      "\n",
      "\n"
     ]
    }
   ],
   "source": [
    "println(model,\"\\n\")"
   ]
  },
  {
   "cell_type": "code",
   "execution_count": 26,
   "metadata": {},
   "outputs": [
    {
     "name": "stdout",
     "output_type": "stream",
     "text": [
      "Running HiGHS 1.6.0: Copyright (c) 2023 HiGHS under MIT licence terms\n",
      "Presolving model\n",
      "2 rows, 2 cols, 4 nonzeros\n",
      "0 rows, 0 cols, 0 nonzeros\n",
      "Presolve : Reductions: rows 0(-2); columns 0(-2); elements 0(-4) - Reduced to empty\n",
      "Solving the original LP from the solution after postsolve\n",
      "Model   status      : Optimal\n",
      "Objective value     :  1.3500000000e+01\n",
      "HiGHS run time      :          0.00\n"
     ]
    }
   ],
   "source": [
    "optimize!(model);"
   ]
  },
  {
   "cell_type": "code",
   "execution_count": 27,
   "metadata": {},
   "outputs": [
    {
     "name": "stdout",
     "output_type": "stream",
     "text": [
      "13.5"
     ]
    }
   ],
   "source": [
    "print(objective_value(model))"
   ]
  },
  {
   "cell_type": "code",
   "execution_count": 28,
   "metadata": {},
   "outputs": [
    {
     "name": "stdout",
     "output_type": "stream",
     "text": [
      "[0.0, 9.0]\n"
     ]
    }
   ],
   "source": [
    "println(value.(x))"
   ]
  },
  {
   "cell_type": "code",
   "execution_count": 29,
   "metadata": {},
   "outputs": [
    {
     "data": {
      "text/plain": [
       "A JuMP Model\n",
       "Feasibility problem with:\n",
       "Variables: 0\n",
       "Model mode: AUTOMATIC\n",
       "CachingOptimizer state: EMPTY_OPTIMIZER\n",
       "Solver name: HiGHS"
      ]
     },
     "execution_count": 29,
     "metadata": {},
     "output_type": "execute_result"
    }
   ],
   "source": [
    "empty!(model)"
   ]
  },
  {
   "cell_type": "markdown",
   "metadata": {},
   "source": [
    "<hr>\n",
    "\n",
    "## 2. Programação Linear Inteira\n",
    "<div style=\"justify\">\n",
    "Uma pequena oficina de brinquedos produz dois tipos de brinquedos: caminhão de madeira e boneca de pano. \n",
    "\n",
    "\n",
    "O custo de produção de cada caminhão é de RS 12,00 por unidade e de cada boneca de pano é de RS 9,00 por unidade e os dois produtos são vendidos, respectivamente, por RS 22,00 e por RS 17,00. \n",
    "\n",
    "São necessárias 6 pessoas para fazer um lote de dez caminhões por dia e quatro pessoas para fazer um lote de 14 bonecas por dia. \n",
    "\n",
    "Existem 18 pessoas disponíveis para produzir os itens, podendo ser alocadas em qualquer um dos dois, em qualquer etapa. \n",
    "\n",
    "Devido à demanda existente é necessário fazer ao menos um lote de caminhões e um lote de bonecas por dia. \n",
    "\n",
    "Proponha como maximizar a lucratividade diária.\n",
    "\n",
    "</div>\n",
    "<hr>"
   ]
  },
  {
   "cell_type": "code",
   "execution_count": 2,
   "metadata": {},
   "outputs": [
    {
     "data": {
      "text/plain": [
       "10"
      ]
     },
     "execution_count": 2,
     "metadata": {},
     "output_type": "execute_result"
    }
   ],
   "source": [
    "# Lucro de cada Caminhão de madeira\n",
    "22-12"
   ]
  },
  {
   "cell_type": "code",
   "execution_count": 1,
   "metadata": {},
   "outputs": [
    {
     "data": {
      "text/plain": [
       "8"
      ]
     },
     "execution_count": 1,
     "metadata": {},
     "output_type": "execute_result"
    }
   ],
   "source": [
    "# Lucro de cada boneca\n",
    "17-9"
   ]
  },
  {
   "cell_type": "markdown",
   "metadata": {},
   "source": [
    "### Variáveis de Decisão\n",
    "\n",
    "$x_c$: Quantidade de Caminhões de Madeira (lote de 10);\n",
    "\n",
    "$x_b$: Quantidade de Bonecas de Pano (lote de 14);"
   ]
  },
  {
   "cell_type": "markdown",
   "metadata": {},
   "source": [
    "### Função Objetivo\n",
    "\n",
    "\\begin{equation}\n",
    "    \\text{Máx } f(x_c,x_b)=10\\cdot10 x_c +8\\cdot14x_b\n",
    "\\end{equation}"
   ]
  },
  {
   "cell_type": "markdown",
   "metadata": {},
   "source": [
    "### Restições\n",
    "\n",
    "### Restrições:\n",
    "\n",
    "\\begin{equation}\n",
    "    \\text{s.a.}\\left \\{ \\begin{matrix}\n",
    "        6x_c + 4x_b \\leq 18\\\\\n",
    "    x_c\\geq1,\\;x_b\\geq1\n",
    "    \\end{matrix}\\right .\n",
    "\\end{equation}"
   ]
  },
  {
   "cell_type": "code",
   "execution_count": 12,
   "metadata": {},
   "outputs": [
    {
     "data": {
      "text/latex": [
       "$ 100 x_{1} + 112 x_{2} $"
      ],
      "text/plain": [
       "100 x[1] + 112 x[2]"
      ]
     },
     "execution_count": 12,
     "metadata": {},
     "output_type": "execute_result"
    }
   ],
   "source": [
    "model = Model(HiGHS.Optimizer)\n",
    "@variable(model, x[i=1:2] >= 1, Int)\n",
    "\n",
    "c = [\n",
    "    10*10;\n",
    "    8*14\n",
    "]\n",
    "\n",
    "@objective(model, Max, c'x)"
   ]
  },
  {
   "cell_type": "code",
   "execution_count": 13,
   "metadata": {},
   "outputs": [
    {
     "data": {
      "text/plain": [
       "1-element Vector{ConstraintRef{Model, MathOptInterface.ConstraintIndex{MathOptInterface.ScalarAffineFunction{Float64}, MathOptInterface.LessThan{Float64}}, ScalarShape}}:\n",
       " restr[1] : 6 x[1] + 4 x[2] ≤ 18"
      ]
     },
     "execution_count": 13,
     "metadata": {},
     "output_type": "execute_result"
    }
   ],
   "source": [
    "A = [6 4]\n",
    "\n",
    "b=[18]\n",
    "\n",
    "@constraint(model, restr[j=1:1], A[j,:]'*x<=b[j])"
   ]
  },
  {
   "cell_type": "code",
   "execution_count": 14,
   "metadata": {},
   "outputs": [
    {
     "name": "stdout",
     "output_type": "stream",
     "text": [
      "Max 100 x[1] + 112 x[2]\n",
      "Subject to\n",
      " restr[1] : 6 x[1] + 4 x[2] ≤ 18\n",
      " x[1] ≥ 1\n",
      " x[2] ≥ 1\n",
      " x[1] integer\n",
      " x[2] integer\n",
      "\n",
      "\n"
     ]
    }
   ],
   "source": [
    "println(model,\"\\n\")"
   ]
  },
  {
   "cell_type": "code",
   "execution_count": 15,
   "metadata": {},
   "outputs": [
    {
     "name": "stdout",
     "output_type": "stream",
     "text": [
      "Running HiGHS 1.6.0: Copyright (c) 2023 HiGHS under MIT licence terms\n",
      "Presolving model\n",
      "1 rows, 2 cols, 2 nonzeros\n",
      "0 rows, 0 cols, 0 nonzeros\n",
      "Presolve: Optimal\n",
      "\n",
      "Solving report\n",
      "  Status            Optimal\n",
      "  Primal bound      436\n",
      "  Dual bound        436\n",
      "  Gap               0% (tolerance: 0.01%)\n",
      "  Solution status   feasible\n",
      "                    436 (objective)\n",
      "                    0 (bound viol.)\n",
      "                    0 (int. viol.)\n",
      "                    0 (row viol.)\n",
      "  Timing            0.00 (total)\n",
      "                    0.00 (presolve)\n",
      "                    0.00 (postsolve)\n",
      "  Nodes             0\n",
      "  LP iterations     0 (total)\n",
      "                    0 (strong br.)\n",
      "                    0 (separation)\n",
      "                    0 (heuristics)\n"
     ]
    }
   ],
   "source": [
    "optimize!(model);"
   ]
  },
  {
   "cell_type": "code",
   "execution_count": 16,
   "metadata": {},
   "outputs": [
    {
     "name": "stdout",
     "output_type": "stream",
     "text": [
      "436.0"
     ]
    }
   ],
   "source": [
    "print(objective_value(model))"
   ]
  },
  {
   "cell_type": "code",
   "execution_count": 17,
   "metadata": {},
   "outputs": [
    {
     "name": "stdout",
     "output_type": "stream",
     "text": [
      "[1.0, 3.0]\n"
     ]
    }
   ],
   "source": [
    "println(value.(x))"
   ]
  },
  {
   "cell_type": "code",
   "execution_count": 63,
   "metadata": {},
   "outputs": [
    {
     "data": {
      "text/plain": [
       "A JuMP Model\n",
       "Feasibility problem with:\n",
       "Variables: 0\n",
       "Model mode: AUTOMATIC\n",
       "CachingOptimizer state: EMPTY_OPTIMIZER\n",
       "Solver name: HiGHS"
      ]
     },
     "execution_count": 63,
     "metadata": {},
     "output_type": "execute_result"
    }
   ],
   "source": [
    "empty!(model)"
   ]
  },
  {
   "cell_type": "markdown",
   "metadata": {},
   "source": [
    "<hr>\n",
    "\n",
    "Para não precisarmos repetir cada comando do algoritmo de otimização novamente, iremos construir uma função computacional:"
   ]
  },
  {
   "cell_type": "code",
   "execution_count": 77,
   "metadata": {},
   "outputs": [
    {
     "data": {
      "text/plain": [
       "solve (generic function with 2 methods)"
      ]
     },
     "execution_count": 77,
     "metadata": {},
     "output_type": "execute_result"
    }
   ],
   "source": [
    "# Entrada:\n",
    "\n",
    "# Vetor pesos da função objetivo: c = [c1; c2; ...; cn]\n",
    "\n",
    "# Matriz de coeficientes associada às restrições: A =[1 2; 3 4]\n",
    "\n",
    "# Vetor de valores resultantes das desigualdades das restrições: b = [1; 2; ...; n]\n",
    "\n",
    "# tipo de variável: Cont, Int, Bin\n",
    "function solve(c,A,b,t)\n",
    "    model = Model(HiGHS.Optimizer)\n",
    "    if t == \"Int\"\n",
    "        @variable(model, x[i=1:size(c)[1]] >= 0, Int)\n",
    "    elseif t == \"Bin\"\n",
    "        @variable(model, x[i=1:size(c)[1]] >= 0, Bin)\n",
    "    else\n",
    "        @variable(model, x[i=1:size(c)[1]] >= 0)\n",
    "    end\n",
    "    @objective(model, Max, c'x)\n",
    "    @constraint(model, restr[j=1:size(A)[1]], A[j,:]'*x<=b[j])\n",
    "    println(model,\"\\n\")\n",
    "    optimize!(model);\n",
    "    print(\"\\n\\n Solução ótima: \")\n",
    "    println(value.(x))\n",
    "    println(\"\\n \\n Valor da função objetivo para a solução ótima: z* = \",objective_value(model))\n",
    "    empty!(model)\n",
    "end"
   ]
  },
  {
   "cell_type": "code",
   "execution_count": 78,
   "metadata": {},
   "outputs": [
    {
     "name": "stdout",
     "output_type": "stream",
     "text": [
      "Max 100 x[1] + 112 x[2]\n",
      "Subject to\n",
      " restr[1] : 6 x[1] + 4 x[2] ≤ 18\n",
      " x[1] ≥ 0\n",
      " x[2] ≥ 0\n",
      " x[1] binary\n",
      " x[2] binary\n",
      "\n",
      "\n",
      "Running HiGHS 1.6.0: Copyright (c) 2023 HiGHS under MIT licence terms\n",
      "Presolving model\n",
      "0 rows, 0 cols, 0 nonzeros\n",
      "0 rows, 0 cols, 0 nonzeros\n",
      "Presolve: Optimal\n",
      "\n",
      "Solving report\n",
      "  Status            Optimal\n",
      "  Primal bound      212\n",
      "  Dual bound        212\n",
      "  Gap               0% (tolerance: 0.01%)\n",
      "  Solution status   feasible\n",
      "                    212 (objective)\n",
      "                    0 (bound viol.)\n",
      "                    0 (int. viol.)\n",
      "                    0 (row viol.)\n",
      "  Timing            0.00 (total)\n",
      "                    0.00 (presolve)\n",
      "                    0.00 (postsolve)\n",
      "  Nodes             0\n",
      "  LP iterations     0 (total)\n",
      "                    0 (strong br.)\n",
      "                    0 (separation)\n",
      "                    0 (heuristics)\n",
      "\n",
      "\n",
      " Solução ótima: [1.0, 1.0]\n",
      "\n",
      " \n",
      " Valor da função objetivo para a solução ótima: z* = 212.0\n"
     ]
    },
    {
     "data": {
      "text/plain": [
       "A JuMP Model\n",
       "Feasibility problem with:\n",
       "Variables: 0\n",
       "Model mode: AUTOMATIC\n",
       "CachingOptimizer state: EMPTY_OPTIMIZER\n",
       "Solver name: HiGHS"
      ]
     },
     "execution_count": 78,
     "metadata": {},
     "output_type": "execute_result"
    }
   ],
   "source": [
    "# Exemplo anterior:\n",
    "c = [\n",
    "    10*10;\n",
    "    8*14\n",
    "]\n",
    "\n",
    "A = [6 4]\n",
    "\n",
    "b = [18]\n",
    "\n",
    "solve(c,A,b,\"Bin\")"
   ]
  },
  {
   "cell_type": "markdown",
   "metadata": {},
   "source": [
    "<hr>\n",
    "\n",
    "## 3. Problema da Mochila Binária\n",
    "\n",
    "<div style=\"justify\">\n",
    "O <b>Problema da Mochila Binária</b> (também conhecido como <b>Problema da Mochila 0-1</b>) é um problema clássico de otimização combinatória. Imagine que você tem uma mochila com capacidade limitada e vários itens disponíveis para colocar nela. Cada item tem um valor e um peso. O objetivo é escolher os itens de forma a maximizar o valor total dentro da capacidade da mochila, considerando que cada item pode ser escolhido no máximo uma vez.\n",
    "\n",
    "Formalmente, temos:\n",
    "- Um conjunto de $n$ itens, onde o item $i$ tem um valor $v_i$ e um peso $w_i$.\n",
    "- Uma capacidade máxima da mochila $W$.\n",
    "\n",
    "Queremos encontrar um vetor binário $x = (x_1, x_2, \\ldots, x_n)$, onde $x_i = 1$ se o item $i$ está na mochila e $x_i = 0$ caso contrário, de forma a maximizar a função objetivo:\n",
    "\n",
    "\\begin{equation}\n",
    "\\text{Máx } \\sum_{i=1}^{n} v_i x_i\n",
    "\\end{equation}\n",
    "\n",
    "sujeito a:\n",
    "\\begin{equation}\n",
    "    \\sum_{i=1}^{n} w_i x_i \\leq W\\\\\n",
    "\\end{equation}\n",
    "\n",
    "\\begin{equation}\n",
    "    x_i \\in \\{0, 1\\},\\;\\forall \\; i=1,2,\\dots,n    \n",
    "\\end{equation}\n",
    "\n",
    "<hr>\n",
    "\n",
    "Exemplo:\n",
    "\n",
    "Suponha que temos os seguintes itens:\n",
    "\n",
    "-Item 1: Valor $v_1 = 60$, Peso $w_1 = 10$\n",
    "\n",
    "-Item 2: Valor $v_2 = 100$, Peso $w_2 = 20$\n",
    "\n",
    "-Item 3: Valor $v_3 = 120$, Peso $w_3 = 30$\n",
    "\n",
    "\n",
    "E a capacidade da mochila é \\(W = 50\\).\n",
    "<hr>"
   ]
  },
  {
   "cell_type": "markdown",
   "metadata": {},
   "source": [
    "### Variáveis de decisão:\n",
    "\n",
    "- $x_1$: 1 se o item 1 está presente, 0 se o item 1 não está na mochila;\n",
    "  \n",
    "- $x_2$: 1 se o item 2 está presente, 0 se o item 2 não está na mochila;\n",
    "  \n",
    "- $x_3$: 1 se o item 3 está presente, 0 se o item 3 não está na mochila;"
   ]
  },
  {
   "cell_type": "markdown",
   "metadata": {},
   "source": [
    "### Função objetivo\n",
    "\n",
    "\\begin{equation}\n",
    "    \\text{Máx }f(x_1,x_2,x_3)=60x_1+100x_2+120x_3\n",
    "\\end{equation}"
   ]
  },
  {
   "cell_type": "markdown",
   "metadata": {},
   "source": [
    "### Restrições\n",
    "\n",
    "\\begin{equation}\n",
    "    \\text{s.a. }10x_1+20x_2+30x_3\\leq 50\n",
    "\\end{equation}"
   ]
  },
  {
   "cell_type": "code",
   "execution_count": 79,
   "metadata": {},
   "outputs": [
    {
     "name": "stdout",
     "output_type": "stream",
     "text": [
      "Max 60 x[1] + 100 x[2] + 120 x[3]\n",
      "Subject to\n",
      " restr[1] : 10 x[1] + 20 x[2] + 30 x[3] ≤ 50\n",
      " x[1] ≥ 0\n",
      " x[2] ≥ 0\n",
      " x[3] ≥ 0\n",
      " x[1] binary\n",
      " x[2] binary\n",
      " x[3] binary\n",
      "\n",
      "\n",
      "Running HiGHS 1.6.0: Copyright (c) 2023 HiGHS under MIT licence terms\n",
      "Presolving model\n",
      "1 rows, 3 cols, 3 nonzeros\n",
      "0 rows, 0 cols, 0 nonzeros\n",
      "Presolve: Optimal\n",
      "\n",
      "Solving report\n",
      "  Status            Optimal\n",
      "  Primal bound      220\n",
      "  Dual bound        220\n",
      "  Gap               0% (tolerance: 0.01%)\n",
      "  Solution status   feasible\n",
      "                    220 (objective)\n",
      "                    0 (bound viol.)\n",
      "                    0 (int. viol.)\n",
      "                    0 (row viol.)\n",
      "  Timing            0.00 (total)\n",
      "                    0.00 (presolve)\n",
      "                    0.00 (postsolve)\n",
      "  Nodes             0\n",
      "  LP iterations     0 (total)\n",
      "                    0 (strong br.)\n",
      "                    0 (separation)\n",
      "                    0 (heuristics)\n",
      "\n",
      "\n",
      " Solução ótima: [0.0, 1.0, 1.0]\n",
      "\n",
      " \n",
      " Valor da função objetivo para a solução ótima: z* = 220.0\n"
     ]
    },
    {
     "data": {
      "text/plain": [
       "A JuMP Model\n",
       "Feasibility problem with:\n",
       "Variables: 0\n",
       "Model mode: AUTOMATIC\n",
       "CachingOptimizer state: EMPTY_OPTIMIZER\n",
       "Solver name: HiGHS"
      ]
     },
     "execution_count": 79,
     "metadata": {},
     "output_type": "execute_result"
    }
   ],
   "source": [
    "c = [60; 100; 120]\n",
    "\n",
    "A = [10 20 30]\n",
    "\n",
    "b = [50]\n",
    "\n",
    "solve(c,A,b,\"Bin\")"
   ]
  },
  {
   "cell_type": "markdown",
   "metadata": {},
   "source": [
    "<hr>\n",
    "\n",
    "## 4. Problema da Mochila Inteira\n",
    "\n",
    "<div style=\"justify\">\n",
    "Dada uma mochila de capacidade 15 litros e um conjunto de 4 itens únicos com tamanhos w_i (em litros) e valores v_i (em reais) associados a cada item i, de acordo com a tabela a seguir, queremos determinar quais e quantos itens devem ser colocados na mochila de modo a maximizar o valor total transportado, respeitando sua capacidade.\n",
    "</div>\n",
    "\n",
    "|   | $x_1$ | $x_2$ | $x_3$ | $x_4$ |\n",
    "| ------------- | ------------- | ------------- | ------------- | ------------- |\n",
    "| $v_i$  | R$ 10,00  | R$ 20,00  | R$ 30,00  | R$ 40,00  |\n",
    "| $w_i$  |  4 | 3 | 5 | 2 |\n",
    "\n",
    "<hr>"
   ]
  },
  {
   "cell_type": "markdown",
   "metadata": {},
   "source": [
    "### Variáveis de decisão:\n",
    "\n",
    "- $x_1$: quantidade de itens 1 na mochila;\n",
    "  \n",
    "- $x_2$: quantidade de itens 2 na mochila;\n",
    "  \n",
    "- $x_3$: quantidade de itens 3 na mochila;\n",
    "  \n",
    "- $x_4$: quantidade de itens 4 na mochila;"
   ]
  },
  {
   "cell_type": "markdown",
   "metadata": {},
   "source": [
    "### Função objetivo\n",
    "\n",
    "\\begin{equation}\n",
    "    \\text{Máx }f(x_1,x_2,x_3,x_4) = 10x_1+20x_2+30x_3+40x_4\n",
    "\\end{equation}"
   ]
  },
  {
   "cell_type": "markdown",
   "metadata": {},
   "source": [
    "### Restrições\n",
    "\n",
    "\\begin{equation}\n",
    "    \\text{s.a. }4x_1+3x_2+5x_3+2x_4\\leq 15\n",
    "\\end{equation}"
   ]
  },
  {
   "cell_type": "code",
   "execution_count": 80,
   "metadata": {},
   "outputs": [
    {
     "name": "stdout",
     "output_type": "stream",
     "text": [
      "Max 10 x[1] + 20 x[2] + 30 x[3] + 40 x[4]\n",
      "Subject to\n",
      " restr[1] : 4 x[1] + 3 x[2] + 5 x[3] + 2 x[4] ≤ 15\n",
      " x[1] ≥ 0\n",
      " x[2] ≥ 0\n",
      " x[3] ≥ 0\n",
      " x[4] ≥ 0\n",
      " x[1] integer\n",
      " x[2] integer\n",
      " x[3] integer\n",
      " x[4] integer\n",
      "\n",
      "\n",
      "Running HiGHS 1.6.0: Copyright (c) 2023 HiGHS under MIT licence terms\n",
      "Presolving model\n",
      "1 rows, 4 cols, 4 nonzeros\n",
      "1 rows, 3 cols, 3 nonzeros\n",
      "Objective function is integral with scale 0.1\n",
      "\n",
      "Solving MIP model with:\n",
      "   1 rows\n",
      "   3 cols (0 binary, 3 integer, 0 implied int., 0 continuous)\n",
      "   3 nonzeros\n",
      "\n",
      "        Nodes      |    B&B Tree     |            Objective Bounds              |  Dynamic Constraints |       Work      \n",
      "     Proc. InQueue |  Leaves   Expl. | BestBound       BestSol              Gap |   Cuts   InLp Confl. | LpIters     Time\n",
      "\n",
      "         0       0         0   0.00%   470             -inf                 inf        0      0      0         0     0.0s\n",
      "\n",
      "Solving report\n",
      "  Status            Optimal\n",
      "  Primal bound      280\n",
      "  Dual bound        280\n",
      "  Gap               0% (tolerance: 0.01%)\n",
      "  Solution status   feasible\n",
      "                    280 (objective)\n",
      "                    0 (bound viol.)\n",
      "                    0 (int. viol.)\n",
      "                    0 (row viol.)\n",
      "  Timing            0.01 (total)\n",
      "                    0.00 (presolve)\n",
      "                    0.00 (postsolve)\n",
      "  Nodes             1\n",
      "  LP iterations     0 (total)\n",
      "                    0 (strong br.)\n",
      "                    0 (separation)\n",
      "                    0 (heuristics)\n",
      "\n",
      "\n",
      " Solução ótima: [0.0, 0.0, 0.0, 7.0]\n",
      "\n",
      " \n",
      " Valor da função objetivo para a solução ótima: z* = 280.0\n"
     ]
    },
    {
     "data": {
      "text/plain": [
       "A JuMP Model\n",
       "Feasibility problem with:\n",
       "Variables: 0\n",
       "Model mode: AUTOMATIC\n",
       "CachingOptimizer state: EMPTY_OPTIMIZER\n",
       "Solver name: HiGHS"
      ]
     },
     "execution_count": 80,
     "metadata": {},
     "output_type": "execute_result"
    }
   ],
   "source": [
    "c = [10; 20; 30; 40]\n",
    "\n",
    "A = [4 3 5 2]\n",
    "\n",
    "b = [15]\n",
    "\n",
    "solve(c,A,b,\"Int\")"
   ]
  },
  {
   "cell_type": "markdown",
   "metadata": {},
   "source": [
    "## 5. Problema de Transporte\n",
    "\n",
    "### Modelagem:\n",
    "<div style=\"justify\">\n",
    "\n",
    "- $m$ centros de produção (origens);\n",
    "  \n",
    "- $n$ centros consumidores (destinos);\n",
    "\n",
    "<img title=\"\" src=\"https://raw.githubusercontent.com/Daniel-C-Fernandes/PO-2-bimestre/main/transporte.png\" alt=\"transporte\" style=\"zoom:25%; align: center\">\n",
    "\n",
    "Componentes do modelo\n",
    "ai\n",
    ": as quantidades disponíveis, ou ofertadas, em cada origem i\n",
    "bj\n",
    ": as quantidades requeridas (demandadas) , em cada\n",
    "destino j\n",
    "cij : o custo unitário de transporte da origem i ao destino j\n",
    "xij : a quantidade a ser transportada da origem i ao destino j\n",
    "O que é transportado a partir de cada origem i para todos os destinos\n",
    "não pode ultrapassar a quantidade disponível do produto na mesma:\n",
    "X\n",
    "n\n",
    "j=1\n",
    "xij ≤ ai\n",
    "Da mesma forma, espera-se que as demandas de cada destino sejam\n",
    "satisfeitas:\n",
    "X\n",
    "m\n",
    "i=1\n",
    "xij = b\n",
    "\n",
    "\n",
    "Uma empresa fabrica um determinado produto em três cidades P1, P2\n",
    "e P3; o produto destina-se a quatro centros de consumo C1 , C2, C3 e\n",
    "C4. O custo estimado de transportar o produto das fábricas para os\n",
    "centros consumidores, assim como a demanda de cada centro e a\n",
    "oferta de cada fábrica é dado na tabela a seguir:\n",
    "Destino\n",
    "Origem C1 C2 C3 C4 Oferta\n",
    "P1 10 7 6 5 9\n",
    "P2 2 8 9 1 10\n",
    "P3 11 12 8 4 8\n",
    "Demanda 7 6 10 4\n",
    "Formule o modelo de transporte para se determinar o programa que\n",
    "torna mínimo o custo total de transporte entre as quatro cidades e os\n",
    "três centros consumidores\n",
    "\n",
    "</div>"
   ]
  },
  {
   "cell_type": "markdown",
   "metadata": {},
   "source": [
    "## 6. Problema de Transporte com transbordo\n",
    "\n",
    "<div style=\"justify\">\n",
    "\n",
    "</div>"
   ]
  },
  {
   "cell_type": "markdown",
   "metadata": {},
   "source": [
    "## 7. Problema de Designação\n",
    "\n",
    "<div style=\"justify\">\n",
    "\n",
    "</div>"
   ]
  }
 ],
 "metadata": {
  "kernelspec": {
   "display_name": "Julia 1.9.3",
   "language": "julia",
   "name": "julia-1.9"
  },
  "language_info": {
   "file_extension": ".jl",
   "mimetype": "application/julia",
   "name": "julia",
   "version": "1.9.3"
  }
 },
 "nbformat": 4,
 "nbformat_minor": 2
}
