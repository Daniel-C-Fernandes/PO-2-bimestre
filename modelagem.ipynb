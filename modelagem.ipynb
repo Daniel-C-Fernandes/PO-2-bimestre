{
 "cells": [
  {
   "cell_type": "markdown",
   "metadata": {},
   "source": [
    "# Modelagem de Problemas - Pesquisa Operacional\n",
    "\n",
    "## 1. Problema - Mix de Produção / Mistura\n",
    "\n",
    "<hr>\n",
    "<div style=\"justify\">\n",
    "<u>Ex.1: Produção de lingotes metal:</u>\n",
    "\n",
    "\n",
    "Uma empresa fabrica dois produtos, lingotes de aço e lingotes de ferro. \n",
    "\n",
    "Na fabricação dos lingotes de aço a empresa gasta nove horas-homem e três horas-máquina por metro linear, onde a tecnologia utilizada é intensiva em mão-de-obra. \n",
    "\n",
    "Na fabricação dos lingotes de ferro a empresa gasta uma hora-homem e uma hora-máquina por metro linear, onde a tecnologia é intensiva em capital. \n",
    "\n",
    "As instalações da empresa permitem a fabricação de apenas um tipo de lingote por vez.\n",
    "\n",
    "Sejam $x_1$ e $x_2$ as quantidades fabricadas dos lingotes de aço e ferro e que a empresa dispõe de 18 horas-homem e 12 horas-máquina, respectivamente.\n",
    "\n",
    "Sabendo-se que os lucros dos lingotes de aço e ferro são de R\\$ 4.000,00 e R\\$ 1.000,00 por unidade métrica, respectivamente, quanto essa empresa deve fabricar de cada produto para obter o maior lucro possível?\n",
    "</div>\n",
    "\n",
    "<hr>"
   ]
  },
  {
   "cell_type": "markdown",
   "metadata": {},
   "source": [
    "### Variáveis de Decisão:\n",
    "<!--\n",
    "$x_1$: metro linear de lingote de aço\n",
    "\n",
    "$x_2$: metro linear de lingote de ferro\n",
    "\n",
    "\n",
    ">"
   ]
  },
  {
   "cell_type": "markdown",
   "metadata": {},
   "source": [
    "### Função objetivo:\n",
    "\n",
    "\\begin{equation}\n",
    "    \\text{Máx }f(x_1,x_2)=4000x_1+1000x_2\n",
    "\\end{equation}\n"
   ]
  },
  {
   "cell_type": "markdown",
   "metadata": {},
   "source": [
    "### Restrições:\n",
    "\n",
    "\\begin{equation}\n",
    "    \\text{s.a.}\\left \\{ \\begin{matrix}\n",
    "    9x_1+x_2\\leq 18\\text{ ------> horas-homem}\\\\\n",
    "    3x_1+x_2\\leq 12\\text{ ------> horas-máquina}\\\\\n",
    "    x_1\\geq0,\\;x_2\\geq0\n",
    "    \\end{matrix}\\right .\n",
    "\\end{equation}"
   ]
  },
  {
   "cell_type": "code",
   "execution_count": 1,
   "metadata": {},
   "outputs": [
    {
     "data": {
      "text/latex": [
       "$ 4000 x_{1} + 1000 x_{2} $"
      ],
      "text/plain": [
       "4000 x[1] + 1000 x[2]"
      ]
     },
     "execution_count": 1,
     "metadata": {},
     "output_type": "execute_result"
    }
   ],
   "source": [
    "using HiGHS, JuMP\n",
    "\n",
    "model = Model(HiGHS.Optimizer)\n",
    "@variable(model, x[i=1:2] >= 0)\n",
    "\n",
    "c = [4000;1000]\n",
    "\n",
    "@objective(model, Max, c'x)"
   ]
  },
  {
   "cell_type": "code",
   "execution_count": 7,
   "metadata": {},
   "outputs": [
    {
     "data": {
      "text/plain": [
       "2-element Vector{ConstraintRef{Model, MathOptInterface.ConstraintIndex{MathOptInterface.ScalarAffineFunction{Float64}, MathOptInterface.LessThan{Float64}}, ScalarShape}}:\n",
       " restr[1] : 9 x[1] + x[2] ≤ 18\n",
       " restr[2] : 3 x[1] + x[2] ≤ 12"
      ]
     },
     "execution_count": 7,
     "metadata": {},
     "output_type": "execute_result"
    }
   ],
   "source": [
    "A = [9 1;\n",
    "    3 1\n",
    "]\n",
    "\n",
    "b=[18;12]\n",
    "\n",
    "@constraint(model, restr[j=1:2], A[j,:]'*x<=b[j])"
   ]
  },
  {
   "cell_type": "code",
   "execution_count": 8,
   "metadata": {},
   "outputs": [
    {
     "name": "stdout",
     "output_type": "stream",
     "text": [
      "Max 4000 x[1] + 1000 x[2]\n",
      "Subject to\n",
      " restr[1] : 9 x[1] + x[2] ≤ 18\n",
      " restr[2] : 3 x[1] + x[2] ≤ 12\n",
      " x[1] ≥ 0\n",
      " x[2] ≥ 0\n",
      "\n",
      "\n"
     ]
    }
   ],
   "source": [
    "println(model,\"\\n\")"
   ]
  },
  {
   "cell_type": "code",
   "execution_count": 9,
   "metadata": {},
   "outputs": [
    {
     "name": "stdout",
     "output_type": "stream",
     "text": [
      "Running HiGHS 1.6.0: Copyright (c) 2023 HiGHS under MIT licence terms\n",
      "Presolving model\n",
      "2 rows, 2 cols, 4 nonzeros\n",
      "2 rows, 2 cols, 4 nonzeros\n",
      "Presolve : Reductions: rows 2(-0); columns 2(-0); elements 4(-0) - Not reduced\n",
      "Problem not reduced by presolve: solving the LP\n",
      "Using EKK dual simplex solver - serial\n",
      "  Iteration        Objective     Infeasibilities num(sum)\n",
      "          0    -1.9999984617e+03 Ph1: 2(5); Du: 2(2000) 0s\n",
      "          2     1.3000000000e+04 Pr: 0(0) 0s\n",
      "Model   status      : Optimal\n",
      "Simplex   iterations: 2\n",
      "Objective value     :  1.3000000000e+04\n",
      "HiGHS run time      :          0.00\n"
     ]
    }
   ],
   "source": [
    "optimize!(model);"
   ]
  },
  {
   "cell_type": "code",
   "execution_count": 10,
   "metadata": {},
   "outputs": [
    {
     "name": "stdout",
     "output_type": "stream",
     "text": [
      "13000.0"
     ]
    }
   ],
   "source": [
    "print(objective_value(model))"
   ]
  },
  {
   "cell_type": "code",
   "execution_count": 12,
   "metadata": {},
   "outputs": [
    {
     "name": "stdout",
     "output_type": "stream",
     "text": [
      "[1.0, 9.0]\n"
     ]
    }
   ],
   "source": [
    "println(value.(x))"
   ]
  },
  {
   "cell_type": "code",
   "execution_count": 14,
   "metadata": {},
   "outputs": [
    {
     "data": {
      "text/plain": [
       "A JuMP Model\n",
       "Feasibility problem with:\n",
       "Variables: 0\n",
       "Model mode: AUTOMATIC\n",
       "CachingOptimizer state: EMPTY_OPTIMIZER\n",
       "Solver name: HiGHS"
      ]
     },
     "execution_count": 14,
     "metadata": {},
     "output_type": "execute_result"
    }
   ],
   "source": [
    "empty!(model)"
   ]
  },
  {
   "cell_type": "markdown",
   "metadata": {},
   "source": [
    "<hr>\n",
    "<div style=\"justify\">\n",
    "<u>Ex.2: Dieta:</u>\n",
    "\n",
    "\n",
    "Para uma boa alimentação o corpo necessita de vitaminas e proteínas. \n",
    "\n",
    "A necessidade mínima de vitaminas é de 32 unidades por dia e a de proteínas é de 36 unidades por dia. \n",
    "\n",
    "Uma pessoa tem disponível carne e ovos para se alimentar. \n",
    "\n",
    "Cada unidade de carne contém 2 unidades de vitaminas e 6 unidades de proteína. \n",
    "\n",
    "Cada unidade de ovo contém 6 unidades de vitaminas e 4 de proteínas. \n",
    "\n",
    "Qual a quantidade diária de carne e ovos que deve ser consumida para suprir as necessidades de vitaminas e proteínas com o menor custo possível? \n",
    "\n",
    "Cada unidade de carne custa R$ 3,00 e cada unidade de ovo custa R$ 1,50. \n",
    "\n",
    "Qual o menor custo possível?\n",
    "</div>\n",
    "<hr>"
   ]
  },
  {
   "cell_type": "markdown",
   "metadata": {},
   "source": [
    "### Variáveis de Decisão:\n",
    "\n",
    "$x_c$: unidades de carne;\n",
    "\n",
    "$x_o$: unidades de ovo;"
   ]
  },
  {
   "cell_type": "markdown",
   "metadata": {},
   "source": [
    "### Função objetivo\n",
    "\n",
    "\\begin{equation}\n",
    "    \\text{Min }f(x_c, x_o)=3x_c+1,5x_o\n",
    "\\end{equation}"
   ]
  },
  {
   "cell_type": "markdown",
   "metadata": {},
   "source": [
    "### Restrições:\n",
    "\n",
    "\\begin{equation}\n",
    "    \\text{s.a.}\\left \\{ \\begin{matrix}\n",
    "        2x_c + 6x_o \\geq 32\\text{ ------> Vitaminas}\\\\\n",
    "        6x_c + 4x_o \\geq 36\\text{ ------> Proteínas}\\\\\n",
    "    x_c\\geq0,\\;x_o\\geq0\n",
    "    \\end{matrix}\\right .\n",
    "\\end{equation}"
   ]
  },
  {
   "cell_type": "code",
   "execution_count": 23,
   "metadata": {},
   "outputs": [
    {
     "data": {
      "text/latex": [
       "$ 3 x_{1} + 1.5 x_{2} $"
      ],
      "text/plain": [
       "3 x[1] + 1.5 x[2]"
      ]
     },
     "execution_count": 23,
     "metadata": {},
     "output_type": "execute_result"
    }
   ],
   "source": [
    "model = Model(HiGHS.Optimizer)\n",
    "@variable(model, x[i=1:2] >= 0)\n",
    "\n",
    "c = [3;1.5]\n",
    "\n",
    "@objective(model, Min, c'x)"
   ]
  },
  {
   "cell_type": "code",
   "execution_count": 24,
   "metadata": {},
   "outputs": [
    {
     "data": {
      "text/plain": [
       "2-element Vector{ConstraintRef{Model, MathOptInterface.ConstraintIndex{MathOptInterface.ScalarAffineFunction{Float64}, MathOptInterface.GreaterThan{Float64}}, ScalarShape}}:\n",
       " restr[1] : 2 x[1] + 6 x[2] ≥ 32\n",
       " restr[2] : 6 x[1] + 4 x[2] ≥ 36"
      ]
     },
     "execution_count": 24,
     "metadata": {},
     "output_type": "execute_result"
    }
   ],
   "source": [
    "A = [2 6;\n",
    "    6 4\n",
    "]\n",
    "\n",
    "b=[32;36]\n",
    "\n",
    "@constraint(model, restr[j=1:2], A[j,:]'*x>=b[j])"
   ]
  },
  {
   "cell_type": "code",
   "execution_count": 25,
   "metadata": {},
   "outputs": [
    {
     "name": "stdout",
     "output_type": "stream",
     "text": [
      "Min 3 x[1] + 1.5 x[2]\n",
      "Subject to\n",
      " restr[1] : 2 x[1] + 6 x[2] ≥ 32\n",
      " restr[2] : 6 x[1] + 4 x[2] ≥ 36\n",
      " x[1] ≥ 0\n",
      " x[2] ≥ 0\n",
      "\n",
      "\n"
     ]
    }
   ],
   "source": [
    "println(model,\"\\n\")"
   ]
  },
  {
   "cell_type": "code",
   "execution_count": 26,
   "metadata": {},
   "outputs": [
    {
     "name": "stdout",
     "output_type": "stream",
     "text": [
      "Running HiGHS 1.6.0: Copyright (c) 2023 HiGHS under MIT licence terms\n",
      "Presolving model\n",
      "2 rows, 2 cols, 4 nonzeros\n",
      "0 rows, 0 cols, 0 nonzeros\n",
      "Presolve : Reductions: rows 0(-2); columns 0(-2); elements 0(-4) - Reduced to empty\n",
      "Solving the original LP from the solution after postsolve\n",
      "Model   status      : Optimal\n",
      "Objective value     :  1.3500000000e+01\n",
      "HiGHS run time      :          0.00\n"
     ]
    }
   ],
   "source": [
    "optimize!(model);"
   ]
  },
  {
   "cell_type": "code",
   "execution_count": 27,
   "metadata": {},
   "outputs": [
    {
     "name": "stdout",
     "output_type": "stream",
     "text": [
      "13.5"
     ]
    }
   ],
   "source": [
    "print(objective_value(model))"
   ]
  },
  {
   "cell_type": "code",
   "execution_count": 28,
   "metadata": {},
   "outputs": [
    {
     "name": "stdout",
     "output_type": "stream",
     "text": [
      "[0.0, 9.0]\n"
     ]
    }
   ],
   "source": [
    "println(value.(x))"
   ]
  },
  {
   "cell_type": "code",
   "execution_count": 29,
   "metadata": {},
   "outputs": [
    {
     "data": {
      "text/plain": [
       "A JuMP Model\n",
       "Feasibility problem with:\n",
       "Variables: 0\n",
       "Model mode: AUTOMATIC\n",
       "CachingOptimizer state: EMPTY_OPTIMIZER\n",
       "Solver name: HiGHS"
      ]
     },
     "execution_count": 29,
     "metadata": {},
     "output_type": "execute_result"
    }
   ],
   "source": [
    "empty!(model)"
   ]
  },
  {
   "cell_type": "markdown",
   "metadata": {},
   "source": [
    "<hr>\n",
    "\n",
    "## 2. Programação Linear Inteira\n",
    "<div style=\"justify\">\n",
    "Uma pequena oficina de brinquedos produz dois tipos de brinquedos: caminhão de madeira e boneca de pano. \n",
    "\n",
    "\n",
    "O custo de produção de cada caminhão é de R$ 12,00 por unidade e de cada boneca de pano é de R$ 9,00 por unidade e os dois produtos são vendidos, respectivamente, por R$ 22,00 e por R$ 17,00. \n",
    "\n",
    "São necessárias 6 pessoas para fazer um lote de dez caminhões por dia e quatro pessoas para fazer um lote de 14 bonecas por dia. \n",
    "\n",
    "Existem 18 pessoas disponíveis para produzir os itens, podendo ser alocadas em qualquer um dos dois, em qualquer etapa. \n",
    "\n",
    "Devido à demanda existente é necessário fazer ao menos um lote de caminhões e um lote de bonecas por dia. \n",
    "\n",
    "Proponha como maximizar a lucratividade diária.\n",
    "\n",
    "</div>\n",
    "<hr>"
   ]
  },
  {
   "cell_type": "markdown",
   "metadata": {},
   "source": [
    "### Variáveis de Decisão\n",
    "\n",
    "$x_c$: Quantidade de Caminhões de Madeira (lote de 10);\n",
    "\n",
    "$x_b$: Quantidade de Bonecas de Pano (lote de 14);"
   ]
  },
  {
   "cell_type": "markdown",
   "metadata": {},
   "source": [
    "### Função Objetivo\n",
    "\n",
    "\\begin{equation}\n",
    "    \\text{Máx } f(x_c,x_b)=12\\cdot10 x_c +9\\cdot14x_b\n",
    "\\end{equation}"
   ]
  },
  {
   "cell_type": "markdown",
   "metadata": {},
   "source": [
    "### Restições\n",
    "\n",
    "### Restrições:\n",
    "\n",
    "\\begin{equation}\n",
    "    \\text{s.a.}\\left \\{ \\begin{matrix}\n",
    "        6x_c + 4x_b \\leq 18\\\\\n",
    "    x_c\\geq1,\\;x_b\\geq1\n",
    "    \\end{matrix}\\right .\n",
    "\\end{equation}"
   ]
  },
  {
   "cell_type": "code",
   "execution_count": 32,
   "metadata": {},
   "outputs": [
    {
     "data": {
      "text/latex": [
       "$ 120 x_{1} + 126 x_{2} $"
      ],
      "text/plain": [
       "120 x[1] + 126 x[2]"
      ]
     },
     "execution_count": 32,
     "metadata": {},
     "output_type": "execute_result"
    }
   ],
   "source": [
    "model = Model(HiGHS.Optimizer)\n",
    "@variable(model, x[i=1:2] >= 0, Int)\n",
    "\n",
    "c = [120;126]\n",
    "\n",
    "@objective(model, Max, c'x)"
   ]
  },
  {
   "cell_type": "code",
   "execution_count": 34,
   "metadata": {},
   "outputs": [
    {
     "data": {
      "text/plain": [
       "1-element Vector{ConstraintRef{Model, MathOptInterface.ConstraintIndex{MathOptInterface.ScalarAffineFunction{Float64}, MathOptInterface.LessThan{Float64}}, ScalarShape}}:\n",
       " restr[1] : 6 x[1] + 4 x[2] ≤ 18"
      ]
     },
     "execution_count": 34,
     "metadata": {},
     "output_type": "execute_result"
    }
   ],
   "source": [
    "A = [6 4]\n",
    "\n",
    "b=[18]\n",
    "\n",
    "@constraint(model, restr[j=1:1], A[j,:]'*x<=b[j])"
   ]
  },
  {
   "cell_type": "code",
   "execution_count": 35,
   "metadata": {},
   "outputs": [
    {
     "name": "stdout",
     "output_type": "stream",
     "text": [
      "Max 120 x[1] + 126 x[2]\n",
      "Subject to\n",
      " restr[1] : 6 x[1] + 4 x[2] ≤ 18\n",
      " restr[1] : 6 x[1] + 4 x[2] ≤ 18\n",
      " x[1] ≥ 0\n",
      " x[2] ≥ 0\n",
      " x[1] integer\n",
      " x[2] integer\n",
      "\n",
      "\n"
     ]
    }
   ],
   "source": [
    "println(model,\"\\n\")"
   ]
  },
  {
   "cell_type": "code",
   "execution_count": 36,
   "metadata": {},
   "outputs": [
    {
     "name": "stdout",
     "output_type": "stream",
     "text": [
      "Running HiGHS 1.6.0: Copyright (c) 2023 HiGHS under MIT licence terms\n",
      "Presolving model\n",
      "2 rows, 2 cols, 4 nonzeros\n",
      "1 rows, 2 cols, 2 nonzeros\n",
      "1 rows, 2 cols, 2 nonzeros\n",
      "Objective function is integral with scale 0.166667\n",
      "\n",
      "Solving MIP model with:\n",
      "   1 rows\n",
      "   2 cols (0 binary, 2 integer, 0 implied int., 0 continuous)\n",
      "   2 nonzeros\n",
      "\n",
      "        Nodes      |    B&B Tree     |            Objective Bounds              |  Dynamic Constraints |       Work      \n",
      "     Proc. InQueue |  Leaves   Expl. | BestBound       BestSol              Gap |   Cuts   InLp Confl. | LpIters     Time\n",
      "\n",
      "         0       0         0   0.00%   864             -inf                 inf        0      0      0         0     0.0s\n",
      "\n",
      "Solving report\n",
      "  Status            Optimal\n",
      "  Primal bound      504\n",
      "  Dual bound        504\n",
      "  Gap               0% (tolerance: 0.01%)\n",
      "  Solution status   feasible\n",
      "                    504 (objective)\n",
      "                    0 (bound viol.)\n",
      "                    0 (int. viol.)\n",
      "                    0 (row viol.)\n",
      "  Timing            0.03 (total)\n",
      "                    0.00 (presolve)\n",
      "                    0.00 (postsolve)\n",
      "  Nodes             1\n",
      "  LP iterations     0 (total)\n",
      "                    0 (strong br.)\n",
      "                    0 (separation)\n",
      "                    0 (heuristics)\n"
     ]
    }
   ],
   "source": [
    "optimize!(model);"
   ]
  },
  {
   "cell_type": "code",
   "execution_count": 37,
   "metadata": {},
   "outputs": [
    {
     "name": "stdout",
     "output_type": "stream",
     "text": [
      "504.0"
     ]
    }
   ],
   "source": [
    "print(objective_value(model))"
   ]
  },
  {
   "cell_type": "code",
   "execution_count": 38,
   "metadata": {},
   "outputs": [
    {
     "name": "stdout",
     "output_type": "stream",
     "text": [
      "[0.0, 4.0]\n"
     ]
    }
   ],
   "source": [
    "println(value.(x))"
   ]
  },
  {
   "cell_type": "code",
   "execution_count": 39,
   "metadata": {},
   "outputs": [
    {
     "data": {
      "text/plain": [
       "A JuMP Model\n",
       "Feasibility problem with:\n",
       "Variables: 0\n",
       "Model mode: AUTOMATIC\n",
       "CachingOptimizer state: EMPTY_OPTIMIZER\n",
       "Solver name: HiGHS"
      ]
     },
     "execution_count": 39,
     "metadata": {},
     "output_type": "execute_result"
    }
   ],
   "source": [
    "empty!(model)"
   ]
  },
  {
   "cell_type": "markdown",
   "metadata": {},
   "source": [
    "<hr>\n",
    "## 3. Problema da Mochila Binária\n",
    "\n",
    "<div style=\"justify\">\n",
    "O <b>Problema da Mochila Binária</b> (também conhecido como <b>Problema da Mochila 0-1</b>) é um problema clássico de otimização combinatória. Imagine que você tem uma mochila com capacidade limitada e vários itens disponíveis para colocar nela. Cada item tem um valor e um peso. O objetivo é escolher os itens de forma a maximizar o valor total dentro da capacidade da mochila, considerando que cada item pode ser escolhido no máximo uma vez.\n",
    "\n",
    "Formalmente, temos:\n",
    "- Um conjunto de $n$ itens, onde o item $i$ tem um valor $v_i$ e um peso $w_i$.\n",
    "- Uma capacidade máxima da mochila $W$.\n",
    "\n",
    "Queremos encontrar um vetor binário $x = (x_1, x_2, \\ldots, x_n)$, onde $x_i = 1$ se o item $i$ está na mochila e $x_i = 0$ caso contrário, de forma a maximizar a função objetivo:\n",
    "\n",
    "\\begin{equation}\n",
    "\\text{Máx } \\sum_{i=1}^{n} v_i x_i\n",
    "\\end{equation}\n",
    "\n",
    "sujeito a:\n",
    "\\begin{equation}\n",
    "    \\sum_{i=1}^{n} w_i x_i \\leq W\\\\\n",
    "\\end{equation}\n",
    "\n",
    "\\begin{equation}\n",
    "    x_i \\in \\{0, 1\\},\\;\\forall \\; i=1,2,\\dots,n    \n",
    "\\end{equation}\n",
    "\n",
    "<hr>\n",
    "\n",
    "Exemplo:\n",
    "\n",
    "Suponha que temos os seguintes itens:\n",
    "\n",
    "-Item 1: Valor $v_1 = 60$, Peso $w_1 = 10$\n",
    "\n",
    "-Item 2: Valor $v_2 = 100$, Peso $w_2 = 20$\n",
    "\n",
    "-Item 3: Valor $v_3 = 120$, Peso $w_3 = 30$\n",
    "\n",
    "\n",
    "E a capacidade da mochila é \\(W = 50\\).\n",
    "<hr>"
   ]
  },
  {
   "cell_type": "markdown",
   "metadata": {},
   "source": [
    "<hr>\n",
    "## 4. Problema da Mochila Inteira\n",
    "\n",
    "<div style=\"justify\">\n",
    "Dada uma mochila de capacidade 15 litros e um conjunto de 4 itens únicos com tamanhos w_i (em litros) e valores v_i (em reais) associados a cada item i, de acordo com a tabela a seguir, queremos determinar quais e quantos itens devem ser colocados na mochila de modo a maximizar o valor total transportado, respeitando sua capacidade.\n",
    "</div>\n",
    "\n",
    "|   | $x_1$ | $x_2$ | $x_3$ | $x_4$ |\n",
    "| ------------- | ------------- | ------------- | ------------- | ------------- |\n",
    "| $v_i$  | R$ 10,00  | R$ 20,00  | R$ 30,00  | R$ 40,00  |\n",
    "| $w_i$  |  4 | 3 | 5 | 2 |\n",
    "\n",
    "<hr>"
   ]
  },
  {
   "cell_type": "markdown",
   "metadata": {},
   "source": [
    "## 5. Problema de Transporte\n",
    "\n",
    "### Modelagem:\n",
    "<div style=\"justify\">\n",
    "- $m$ centros de produção (origens);\n",
    "  \n",
    "- $n$ centros consumidores (destinos);\n",
    "\n",
    "![Transporte](https://github.com/Daniel-C-Fernandes/PO-2-bimestre/blob/main/transporte.png)\n",
    "\n",
    "Componentes do modelo\n",
    "ai\n",
    ": as quantidades disponíveis, ou ofertadas, em cada origem i\n",
    "bj\n",
    ": as quantidades requeridas (demandadas) , em cada\n",
    "destino j\n",
    "cij : o custo unitário de transporte da origem i ao destino j\n",
    "xij : a quantidade a ser transportada da origem i ao destino j\n",
    "O que é transportado a partir de cada origem i para todos os destinos\n",
    "não pode ultrapassar a quantidade disponível do produto na mesma:\n",
    "X\n",
    "n\n",
    "j=1\n",
    "xij ≤ ai\n",
    "Da mesma forma, espera-se que as demandas de cada destino sejam\n",
    "satisfeitas:\n",
    "X\n",
    "m\n",
    "i=1\n",
    "xij = b\n",
    "\n",
    "\n",
    "Uma empresa fabrica um determinado produto em três cidades P1, P2\n",
    "e P3; o produto destina-se a quatro centros de consumo C1 , C2, C3 e\n",
    "C4. O custo estimado de transportar o produto das fábricas para os\n",
    "centros consumidores, assim como a demanda de cada centro e a\n",
    "oferta de cada fábrica é dado na tabela a seguir:\n",
    "Destino\n",
    "Origem C1 C2 C3 C4 Oferta\n",
    "P1 10 7 6 5 9\n",
    "P2 2 8 9 1 10\n",
    "P3 11 12 8 4 8\n",
    "Demanda 7 6 10 4\n",
    "Formule o modelo de transporte para se determinar o programa que\n",
    "torna mínimo o custo total de transporte entre as quatro cidades e os\n",
    "três centros consumidores\n",
    "\n",
    "</div>"
   ]
  },
  {
   "cell_type": "markdown",
   "metadata": {},
   "source": [
    "## 6. Problema de Transporte com transbordo\n",
    "\n",
    "<div style=\"justify\">\n",
    "\n",
    "</div>"
   ]
  },
  {
   "cell_type": "markdown",
   "metadata": {},
   "source": [
    "## 7. Problema de Designação\n",
    "\n",
    "<div style=\"justify\">\n",
    "\n",
    "</div>"
   ]
  }
 ],
 "metadata": {
  "kernelspec": {
   "display_name": "Julia 1.9.3",
   "language": "julia",
   "name": "julia-1.9"
  },
  "language_info": {
   "file_extension": ".jl",
   "mimetype": "application/julia",
   "name": "julia",
   "version": "1.9.3"
  }
 },
 "nbformat": 4,
 "nbformat_minor": 2
}
