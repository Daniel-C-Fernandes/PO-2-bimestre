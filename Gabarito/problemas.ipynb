{
 "cells": [
  {
   "cell_type": "markdown",
   "metadata": {},
   "source": [
    "# Trabalho de Modelagem de problemas de Pesquisa Operacional - Programação Linear"
   ]
  },
  {
   "cell_type": "markdown",
   "metadata": {},
   "source": [
    "## 1. Problema da Mistura\n",
    "\n",
    "<div style=\"justify\">\n",
    "\n",
    "A elaboração de uma dieta balanceada, de acordo com o paladar do paciente e atendendo todas as necessidades diárias de nutrientes, é um problema de difícil manipulação quando se dispõe de técnicas adequadas de programação matemática. \n",
    "\n",
    "As informações pessoais, como sexo, idade, peso e altura, conduzem a restrições de exigências diárias mínimas e máximas de nutrientes necessários a cada pessoa. \n",
    "\n",
    "Os preços de compra dos alimentos podem variar e são conhecidos. As quantidades médias de cada tipo de nutriente em cada alimento também são conhecidas. \n",
    "\n",
    "O problema consiste em determinar as quantidades de cada alimento a ingerir, de modo a satisfazer as necessidades mínimas e máximas diárias de consumo de nutrientes, de maneira a minimizar o custo total da dieta. \n",
    "\n",
    "Os requisitos nutricionais diários são expressos em função das quantidades mínimas proporcionais de Carboidratos e Proteínas que devem ser ingeridas. \n",
    "\n",
    "A tabela a seguir apresenta a quantidade disponível de nutrientes nos alimentos permitidos pela dieta, a quantidade de calorias que o alimento apresenta e o custo de cada alimento. Dessa forma, qual deve ser a dieta de custo mínimo que satisfaça às necessidades alimentares de um atleta que deve ter uma dieta de no mínimo 2.000 cal, composta de, pelo menos, 40% de proteínas e 40% de carboidratos?\n",
    "\n",
    "</div>\n",
    "\n",
    "| | Leite (litro) | Iogurte (litro) | Carne Vermelha (kg) | Peixe (kg) | Frango (kg) | Arroz (kg) | Feijão (kg) | Batata (kg) |\n",
    "| ---- | ---- | ---- | ---- | ---- | ---- | ---- | ---- | ---- |\n",
    "| Carboidratos | 32g | 36g | 3g | 0g | 5g | 280g | 630g | 200g |\n",
    "| Proteínas | 25g | 100g | 210g | 200g | 290g | 27g | 21g | 16g |\n",
    "| Calorias\t| 515 | 590 | 8300 | 1290 | 2390 | 1300 | 3470 | 860 |\n",
    "| Custo | R$ 2,42 | R$ 3,09 | R$ 65,90 | R$ 51,90 | R$ 6,50 | R$ 6,90 | R$ 22,50 | R$ 7,19 |"
   ]
  },
  {
   "cell_type": "markdown",
   "metadata": {},
   "source": [
    "<hr>\n",
    "\n",
    "## 2. Problema de Programação Linear Inteira\n",
    "\n",
    "O administrador de uma pequena fábrica de móveis está pensando em otimizar a utilização dos recursos de seu estoque. Essa fábrica produz poltronas em dois modelos, A e B, forradas em brim e lona. Ele sabe que para forrar uma poltrona do tipo A são precisos 2 m² de brim, 10 m² de lona e 3 m² de malha de algodão. Já para forrar uma poltrona o tipo B são precisos 2 m² de brim, 5 m² de lona e 6 m² de malha de algodão. No estoque, a fábrica dispõe de 100 m² de brim, 400 m² de lona e 240 m² de malha de algodão. O modelo A de poltrona é vendido por RS 160,00 e o modelo B de poltrona é vendido por RS 100,00. Com essas informações, de que modo o administrador pode sugerir à produção da fábrica para obter a máxima renda? "
   ]
  },
  {
   "cell_type": "markdown",
   "metadata": {},
   "source": [
    "<hr>\n",
    "\n",
    "## 3. Problema da Mochila Binária\n",
    "\n",
    "Dada uma mochila de capacidade 10 litros e um conjunto de 5 itens únicos com tamanhos  (em litros) e valores  (em reais) associados a cada item i, de acordo com a tabela a seguir, queremos determinar quais itens devem ser colocados na mochila de modo a maximizar o valor total transportado, respeitando sua capacidade.\n",
    "\t\t\t\t\t\n",
    "| | $x_1$ | $x_2$ | $x_3$ | $x_4$ | $x_5$ |\n",
    "| ---- | ---- | ---- | ---- | ---- | ---- |\n",
    "| $v_i$ |\tR$ 50,00 | R$ 12,00 | R$ 40,00 | R$ 5,00 | R$ 100,00 |\n",
    "| $w_i$ | 5 | 2 | 4 | 1 | 7 |"
   ]
  },
  {
   "cell_type": "markdown",
   "metadata": {},
   "source": [
    "<hr>\n",
    "\n",
    "## 4. Problema da Mochila Inteira\n",
    "\n",
    "Dada uma mochila de capacidade 20 litros e um conjunto de 5 tipos de itens com tamanhos  (em litros) e valores  (em reais) associados a cada item i, de acordo com a tabela a seguir, queremos determinar quais e quantos itens devem ser colocados na mochila de modo a maximizar o valor total transportado, respeitando sua capacidade.\n",
    "\n",
    "| | $x_1$ | $x_2$ | $x_3$ | $x_4$ | $x_5$ |\n",
    "| ---- | ---- | ---- | ---- | ---- | ---- |\n",
    "| $v_i$ |\tR$ 50,00 | R$ 12,00 | R$ 40,00 | R$ 5,00 | R$ 100,00 |\n",
    "| $w_i$ | 5 | 2 | 4 | 1 | 7 |"
   ]
  },
  {
   "cell_type": "markdown",
   "metadata": {},
   "source": [
    "<hr>\n",
    "\n",
    "## 5. Problemas de Transporte\n",
    "\n",
    "<div style=\"justify\">\n",
    "\n",
    "Uma empresa possui 4 fábricas (pontos de oferta) que devem abastecer 7 lojistas (pontos de demanda) com determinado produto da empresa. Cada fábrica possui determinada capacidade de oferecimento de entrega de produtos e cada lojista possui uma demanda mínima que deve ser suprida, havendo custos unitários de entrega entre cada fábrica e cada lojista, de acordo com a tabela a seguir. A tabela apresenta os custos unitários de transporte entre as fábricas i e os destinos j, com custos  e quantidade de produtos , apresentando um custo unitário de transporte entre a fábrica 2 e o destino 5, por exemplo, de  unidades monetárias, devendo-se transportar  unidades entre si, com um custo total dependendo da quantidade de produtos transportada. Além disso, a tabela apresenta a capacidade de oferecimento de produtos de cada fábrica e as demandas de cada lojista, sendo a oferta da fábrica 3, por exemplo, de até 110 produtos e a demanda da loja 4, por exemplo, de pelo menos 50 unidades do produto.\n",
    "\n",
    "Dessa forma, quantas unidades do produto devem ser transportadas entre cada origem e cada destino, respeitando as ofertas e demandas, a um custo mínimo?\n",
    "</div>\n",
    "\n",
    "\n",
    "\n",
    "| Destinos / Fábricas | 1 | 2 | 3 | 4 | Demandas |\n",
    "| ---- | ---- | ---- | ---- | ---- | ---- |\n",
    "| 1 | 11 | 9 | 11 | 21 | 40 |\n",
    "| 2 | 13 | 15 | 15 | 30 | 60 | \n",
    "| 3 | 21 | 16 | 15 | 33 | 30 |\n",
    "| 4 | 25 | 26 | 25 | 40 | 50 |\n",
    "| 5 | 40 |\t21 | 31 | 45 | 100 |\n",
    "| 6 | 41 |\t20 | 33 | 50 | 20 |\n",
    "| 7 | 49 |\t22 | 55 | 61 | 80 |\n",
    "| Disponível | 140 | 100 | 110 | 190 | |"
   ]
  },
  {
   "cell_type": "markdown",
   "metadata": {},
   "source": [
    "<hr>\n",
    "\n",
    "## 6. Problema de Transporte com Transbordo\n",
    "\n",
    "<div style=\"justify\">\n",
    "\n",
    "Considere uma companhia distribuidora de bebidas que possui (a) Dois centros de produção (m = 2): Araraquara e São José dos Campos; e (b) Três mercados consumidores (n = 3): São Paulo, Belo Horizonte e Rio de Janeiro. Sejam  a quantidade do produto enviada da localidade i à localidade j. (uma unidade pode ser um engradado contendo dezenas de garrafas, ou um palete com centenas de garrafas) e  o custo unitário do transporte de uma unidade de produto de cada depósito e de cada depósito para cada mercado consumidor. Além disso, o transporte não é feito diretamente da fábrica aos consumidores. Há uma etapa intermediária (depósitos). Os mercados consumidores SP, BH e RJ, possuem as demandas respectivas de 500, 400 e 900 unidades, e as fábricas de Araraquara e S. J. Campos possuem os suprimentos disponíveis respectivos de 800 e 1000 unidades. Os custos de custos de transporte são dados abaixo:\n",
    "\n",
    "</div>\n",
    "\n",
    "| Fábrica / Depósitos | Campinas (3) | B. Mansa (4) |\n",
    "| ---- | ---- | ---- |\n",
    "| Araraquara (1) | 2 | 3 |\n",
    "| S. J. Campos (2) | 1 | 2 |\n",
    "\n",
    "<br>\n",
    "\n",
    "| Depósitos / Mercado | SP (5) | BH (6) | RJ (7) |\n",
    "| ---- | ---- | ---- | ---- |\n",
    "| Campinas (3) | 1 | 2 | 5 |\n",
    "| B. Mansa (4) | 3 | 4 | 1 |\n",
    "\n",
    "Se os mercados podem ser abastecidos somente a partir dos depósitos, dados os custos de transporte, qual o custo mínimo de abastecimento dos consumidores para suprir suas demandas (e a quantidade de produtos em cada rota )?"
   ]
  },
  {
   "cell_type": "markdown",
   "metadata": {},
   "source": [
    "<hr>\n",
    "\n",
    "## 7. Problema de Designação\n",
    "\n",
    "<div style=\"justify\">\n",
    "\n",
    "Os três filhos do Sr. João, Júnior, Carol e Tiago, querem ganhar algum dinheiro para gastar durante uma excursão da escola até o zoológico. O Sr. João escolheu três tarefas para seus filhos: 1) cortar a grama; 2) pintar a porta da garagem; e 3) lavas os carros da família. Para evitar concorrência entre os irmãos, ele pediu que seus filhos apresentassem propostas (fechadas) do que eles consideravam que fosse um pagamento justo para cada uma das três tarefas. Ficou combinado que os três concordariam com a decisão do pai sobre quem executaria qual tarefa. A tabela a seguir resume as propostas recebidas. Com base nessas informações, como o Sr. João deve designar as tarefas se ele deseja despender o menor custo?\n",
    "\n",
    "</div>\n",
    "\n",
    "| |\tCortar | Pintar | Lavar |\n",
    "| ---- | ---- | ---- | ---- |\n",
    "| Júnior | R$ 15,00 | R$ 10,00 | R$ 9,00 |\n",
    "| Carol | R$ 9,00 | R$ 15,00 | R$ 10,00 |\n",
    "| Tiago | R$ 10,00 | R$ 12,00 | R$ 8,00 |"
   ]
  }
 ],
 "metadata": {
  "language_info": {
   "name": "python"
  }
 },
 "nbformat": 4,
 "nbformat_minor": 2
}
